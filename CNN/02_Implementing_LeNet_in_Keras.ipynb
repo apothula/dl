{
  "cells": [
    {
      "cell_type": "markdown",
      "metadata": {
        "id": "view-in-github",
        "colab_type": "text"
      },
      "source": [
        "<a href=\"https://colab.research.google.com/github/apothula/dl/blob/main/CNN/02_Implementing_LeNet_in_Keras.ipynb\" target=\"_parent\"><img src=\"https://colab.research.google.com/assets/colab-badge.svg\" alt=\"Open In Colab\"/></a>"
      ]
    },
    {
      "cell_type": "markdown",
      "id": "3c2f8c88",
      "metadata": {
        "id": "3c2f8c88"
      },
      "source": [
        "<h1 style=\"font-size:30px;\">Implementing LeNet-5 in Keras</h1>\n",
        "\n",
        "In this notebook, we will build a model of the LenNet-5 CNN architecture in TensorFlow, and we will use it to perform classification on the MNIST dataset that we used in Module 2. LetNet-5 is a small CNN model that was first introduced in 1998 [LeNet-5](http://yann.lecun.com/exdb/publis/pdf/lecun-98.pdf). Even though this network is very small, it performs much better than a standard MLP network because CNNs are much more effective at processing image data. This will also be an opportunity for us to add a little more structure to the code that we develop in order to formalize the training process by encapsulating the various steps into functions that allow us to build more modular code.\n"
      ]
    },
    {
      "cell_type": "markdown",
      "id": "4ea47410",
      "metadata": {
        "id": "4ea47410"
      },
      "source": [
        "<img src='https://opencv.org/wp-content/uploads/2022/03/c4_03_LeNet-5_architecture.png' width=1000 align='center'><br/>"
      ]
    },
    {
      "cell_type": "markdown",
      "id": "498af8d3",
      "metadata": {
        "id": "498af8d3"
      },
      "source": [
        "# Table of Contents\n",
        "\n",
        "* [1 System Configuration](#1-System-Configuration)\n",
        "* [2 Dataset Processing](#2-Dataset-Processing)\n",
        "* [3 Modeling the LeNet5 Architecture](#3-Modeling-the-LeNet5-Architecture)\n",
        "* [4 Training Pipeline](#4-Training-Pipeline)\n",
        "* [5 Training Execution](#5-Training-Execution)\n",
        "* [6 Model Evaluation](#6-Model-Evaluation)\n",
        "* [7 Conclusion](#7-Conclusion)"
      ]
    },
    {
      "cell_type": "code",
      "execution_count": 1,
      "id": "595973b4",
      "metadata": {
        "id": "595973b4"
      },
      "outputs": [],
      "source": [
        "import os\n",
        "import random\n",
        "import numpy as np\n",
        "import tensorflow as tf\n",
        "import matplotlib.pyplot as plt\n",
        "from sklearn.model_selection import train_test_split\n",
        "from dataclasses import dataclass\n",
        "\n",
        "block_plot = False\n",
        "\n",
        "# Fix seeds for reproducibility.\n",
        "SEED_VALUE = 29\n",
        "random.seed(SEED_VALUE)\n",
        "np.random.seed(SEED_VALUE)\n",
        "tf.random.set_seed(SEED_VALUE)"
      ]
    },
    {
      "cell_type": "markdown",
      "id": "b241395a",
      "metadata": {
        "id": "b241395a"
      },
      "source": [
        "## 1 System Configuration"
      ]
    },
    {
      "cell_type": "code",
      "execution_count": 2,
      "id": "6d53e6ff",
      "metadata": {
        "colab": {
          "base_uri": "https://localhost:8080/"
        },
        "id": "6d53e6ff",
        "outputId": "dce992c7-05dd-4000-8e56-f2440e3bb024"
      },
      "outputs": [
        {
          "output_type": "stream",
          "name": "stdout",
          "text": [
            "[PhysicalDevice(name='/physical_device:GPU:0', device_type='GPU')]\n",
            "Using GPU\n"
          ]
        }
      ],
      "source": [
        "def system_config():\n",
        "\n",
        "    # Get list of GPUs.\n",
        "    gpu_devices = tf.config.list_physical_devices('GPU')\n",
        "    print(gpu_devices)\n",
        "\n",
        "    if len(gpu_devices) > 0:\n",
        "        print('Using GPU')\n",
        "        os.environ[\"CUDA_VISIBLE_DEVICES\"] = '0'\n",
        "        os.environ['TF_CUDNN_DETERMINISTIC'] = '1'\n",
        "\n",
        "        # If there are any gpu devices, use first gpu.\n",
        "        tf.config.experimental.set_visible_devices(gpu_devices[0], 'GPU')\n",
        "\n",
        "        # Grow the memory usage as it is needed by the process.\n",
        "        tf.config.experimental.set_memory_growth(gpu_devices[0], True)\n",
        "\n",
        "        # Enable using cudNN.\n",
        "        os.environ['TF_USE_CUDNN'] = \"true\"\n",
        "    else:\n",
        "        print('Using CPU')\n",
        "\n",
        "system_config()"
      ]
    },
    {
      "cell_type": "markdown",
      "id": "bf4b8728",
      "metadata": {
        "id": "bf4b8728"
      },
      "source": [
        "## 2 Dataset Processing"
      ]
    },
    {
      "cell_type": "markdown",
      "id": "68d56db5",
      "metadata": {
        "id": "68d56db5"
      },
      "source": [
        "We will use the MNIST dataset that you are now familiar with.\n",
        "\n",
        "<img src='https://learnopencv.com/wp-content/uploads/2022/01/c4_02_MNIST_Digits.jpg' width=650 align='center'>\n"
      ]
    },
    {
      "cell_type": "markdown",
      "id": "01189cf4",
      "metadata": {
        "id": "01189cf4"
      },
      "source": [
        "### 2.1 Read the Dataset"
      ]
    },
    {
      "cell_type": "code",
      "execution_count": 3,
      "id": "cee0e467",
      "metadata": {
        "id": "cee0e467"
      },
      "outputs": [],
      "source": [
        "def get_data():\n",
        "\n",
        "    mnist_data = tf.keras.datasets.mnist\n",
        "\n",
        "    # Load dataset.\n",
        "    (X_train_in, y_train_in), (X_test_in, y_test_in) = mnist_data.load_data()\n",
        "\n",
        "    return (X_train_in, y_train_in), (X_test_in, y_test_in)"
      ]
    },
    {
      "cell_type": "markdown",
      "id": "1a8fda9e",
      "metadata": {
        "id": "1a8fda9e"
      },
      "source": [
        "### 2.2 Data Preprocessing Pipeline\n"
      ]
    },
    {
      "cell_type": "code",
      "execution_count": 4,
      "id": "e5495f02",
      "metadata": {
        "id": "e5495f02"
      },
      "outputs": [],
      "source": [
        "def preprocess_dataset(train_set, test_set, resize_to=None, num_classes=10, seed=3):\n",
        "\n",
        "    (X_train, y_train) = train_set\n",
        "    (X_test, y_test) = test_set\n",
        "\n",
        "    # Split training data into train and validation.\n",
        "    X_train, X_valid, y_train, y_valid = train_test_split(X_train,\n",
        "                                                          y_train,\n",
        "                                                          shuffle=True,\n",
        "                                                          stratify=y_train,\n",
        "                                                          test_size=0.1,\n",
        "                                                          random_state=seed,\n",
        "                                                         )\n",
        "\n",
        "    # Add axis to gray scale.\n",
        "    if len(X_train.shape) != 4:\n",
        "        X_train = tf.expand_dims(X_train, axis=3)\n",
        "        X_valid = tf.expand_dims(X_valid, axis=3)\n",
        "        X_test  = tf.expand_dims(X_test,  axis=3)\n",
        "\n",
        "    # Resize images if requested.\n",
        "    if resize_to:\n",
        "        if isinstance(resize_to, int):\n",
        "            resize_to = (resize_to, resize_to)\n",
        "        X_train = tf.image.resize(X_train, resize_to)\n",
        "        X_valid = tf.image.resize(X_valid, resize_to)\n",
        "        X_test  = tf.image.resize(X_test,  resize_to)\n",
        "\n",
        "    n_train = X_train.shape[0]\n",
        "    n_valid = X_valid.shape[0]\n",
        "    n_test  = X_test.shape[0]\n",
        "\n",
        "    image_shape = X_train[0].shape\n",
        "    print('\\n')\n",
        "    print('There are {} training examples'.format(n_train))\n",
        "    print('There are {} validation examples'.format(n_valid))\n",
        "    print('There are {} test examples'.format(n_test))\n",
        "    print('Image data shape is {}'.format(image_shape))\n",
        "\n",
        "    # Confirm number of classes present in the dataset matches the specified number of classes.\n",
        "    assert num_classes == len(\n",
        "        np.unique(y_train)\n",
        "    ), \"Number of classes present in the dataset does not match specified nuber of classes.\"\n",
        "\n",
        "    print('There are {} classes'.format(num_classes))\n",
        "\n",
        "    NUM_CLASSES = num_classes\n",
        "\n",
        "    # One-hot encode labels if necessary.\n",
        "    if len(y_train.shape) != 2:\n",
        "        y_train = tf.one_hot(y_train, NUM_CLASSES)\n",
        "        y_valid = tf.one_hot(y_valid, NUM_CLASSES)\n",
        "        y_test  = tf.one_hot(y_test,  NUM_CLASSES)\n",
        "\n",
        "    print('\\nData split:\\n')\n",
        "    print(f'X_train: {X_train.shape}, y_train: {y_train.shape}')\n",
        "    print(f'X_valid: {X_valid.shape}, y_valid: {y_valid.shape}')\n",
        "    print(f'X_test:  {X_test.shape},  y_test:  {y_test.shape}')\n",
        "\n",
        "    # Normalize pixel values to the range: [0. - 1.0].\n",
        "    X_train = X_train / 255.0\n",
        "    X_valid = X_valid / 255.0\n",
        "    X_test  = X_test  / 255.0\n",
        "\n",
        "    print(\"\\nGround truth labels have been one-hot encoded: \\n\")\n",
        "    print(np.transpose(y_train[:9]))\n",
        "\n",
        "    return (X_train, y_train), (X_valid, y_valid), (X_test, y_test)"
      ]
    },
    {
      "cell_type": "markdown",
      "id": "76bf770e",
      "metadata": {
        "id": "76bf770e"
      },
      "source": [
        "### 2.3 Data Visualization"
      ]
    },
    {
      "cell_type": "markdown",
      "id": "a06d3a75",
      "metadata": {
        "id": "a06d3a75"
      },
      "source": [
        "It's always a good idea to explore the dataset you are using. We have already used the MNIST dataset in Module 1, but it's good to build a small function that can easily display a small portion of the dataset."
      ]
    },
    {
      "cell_type": "code",
      "execution_count": 5,
      "id": "8d0f16c2",
      "metadata": {
        "id": "8d0f16c2"
      },
      "outputs": [],
      "source": [
        "def visualize_samples(X, y):\n",
        "\n",
        "    plt.figure(figsize=(18, 8))\n",
        "    for i in range(8):\n",
        "        plt.subplot(2, 4, i + 1)\n",
        "        plt.xticks([])\n",
        "        plt.yticks([])\n",
        "        plt.grid(False)\n",
        "        plt.imshow(X[i], cmap='gray')\n",
        "        plt.xlabel(y[i])\n",
        "        plt.axis(\"off\")\n",
        "\n",
        "    plt.suptitle('Dataset Samples', fontsize=18)\n",
        "    plt.subplots_adjust(wspace=0.2, hspace=0.2)\n",
        "    plt.show(block=block_plot)\n",
        "    plt.close()"
      ]
    },
    {
      "cell_type": "code",
      "execution_count": 6,
      "id": "72f3ff55",
      "metadata": {
        "colab": {
          "base_uri": "https://localhost:8080/",
          "height": 476
        },
        "id": "72f3ff55",
        "outputId": "80d135cc-98ea-47c5-f6db-f8430ad40ef7",
        "scrolled": false
      },
      "outputs": [
        {
          "output_type": "stream",
          "name": "stdout",
          "text": [
            "Downloading data from https://storage.googleapis.com/tensorflow/tf-keras-datasets/mnist.npz\n",
            "11490434/11490434 [==============================] - 1s 0us/step\n"
          ]
        },
        {
          "output_type": "display_data",
          "data": {
            "text/plain": [
              "<Figure size 1800x800 with 8 Axes>"
            ],
            "image/png": "[encoded data removed]"
          },
          "metadata": {}
        }
      ],
      "source": [
        "# Download the MNIST dataset.\n",
        "(X_train_in, y_train_in), (X_test_in, y_test_in) = get_data()\n",
        "\n",
        "visualize_samples(X_test_in, y_test_in)"
      ]
    },
    {
      "cell_type": "markdown",
      "id": "f56d794d",
      "metadata": {
        "id": "f56d794d"
      },
      "source": [
        "### 2.4 Preprocess the Dataset\n",
        "\n",
        "We can use Python's shorthand notation (`@dataclass`) that was introduced in Python 3.7, to create simple classes for the purpose of configuring dataset and training parameters. This is helpful as a means to encapsulate related data items and helps to keep our code clean and modular."
      ]
    },
    {
      "cell_type": "code",
      "execution_count": 7,
      "id": "b2a94865",
      "metadata": {
        "colab": {
          "base_uri": "https://localhost:8080/"
        },
        "id": "b2a94865",
        "outputId": "2de683e1-1120-4e4c-887d-31301fa55d43"
      },
      "outputs": [
        {
          "output_type": "stream",
          "name": "stdout",
          "text": [
            "\n",
            "\n",
            "There are 54000 training examples\n",
            "There are 6000 validation examples\n",
            "There are 10000 test examples\n",
            "Image data shape is (32, 32, 1)\n",
            "There are 10 classes\n",
            "\n",
            "Data split:\n",
            "\n",
            "X_train: (54000, 32, 32, 1), y_train: (54000, 10)\n",
            "X_valid: (6000, 32, 32, 1), y_valid: (6000, 10)\n",
            "X_test:  (10000, 32, 32, 1),  y_test:  (10000, 10)\n",
            "\n",
            "Ground truth labels have been one-hot encoded: \n",
            "\n",
            "[[0. 0. 0. 0. 0. 0. 0. 0. 0.]\n",
            " [0. 0. 1. 1. 0. 0. 1. 0. 0.]\n",
            " [0. 0. 0. 0. 0. 0. 0. 0. 0.]\n",
            " [0. 0. 0. 0. 0. 0. 0. 0. 0.]\n",
            " [0. 0. 0. 0. 1. 1. 0. 0. 0.]\n",
            " [1. 1. 0. 0. 0. 0. 0. 0. 0.]\n",
            " [0. 0. 0. 0. 0. 0. 0. 0. 0.]\n",
            " [0. 0. 0. 0. 0. 0. 0. 0. 0.]\n",
            " [0. 0. 0. 0. 0. 0. 0. 0. 0.]\n",
            " [0. 0. 0. 0. 0. 0. 0. 1. 1.]]\n"
          ]
        }
      ],
      "source": [
        "@dataclass(frozen=True)\n",
        "class DatasetConfig:\n",
        "    IMG_HEIGHT:  int = 32\n",
        "    IMG_WIDTH:   int = 32\n",
        "    CHANNELS:    int = 1\n",
        "    NUM_CLASSES: int = 10\n",
        "\n",
        "@dataclass(frozen=True)\n",
        "class TrainingConfig:\n",
        "    BATCH_SIZE:     int   = 32\n",
        "    EPOCHS:         int   = 21\n",
        "    LEARNING_RATE:  float = 0.01\n",
        "\n",
        "data_config = DatasetConfig()\n",
        "training_config = TrainingConfig()\n",
        "\n",
        "# Preprocess the dataset.\n",
        "((X_train, y_train),\n",
        " (X_valid, y_valid),\n",
        " (X_test,  y_test)) = preprocess_dataset((X_train_in, y_train_in),\n",
        "                                        (X_test_in, y_test_in),\n",
        "                                        resize_to=(data_config.IMG_HEIGHT, data_config.IMG_WIDTH),\n",
        "                                        num_classes=data_config.NUM_CLASSES,\n",
        "                                        )"
      ]
    },
    {
      "cell_type": "markdown",
      "id": "2ca7979c",
      "metadata": {
        "id": "2ca7979c"
      },
      "source": [
        "## 3 Modeling the LeNet5 Architecture"
      ]
    },
    {
      "cell_type": "markdown",
      "id": "b2b34dc9",
      "metadata": {
        "id": "b2b34dc9"
      },
      "source": [
        "This network has two convolutional layers and three fully connected layers. The model architecture can be then divided into two parts:\n",
        "\n",
        "\n",
        "1. **`Body`**: This implements the Convolutional part of the network, which consists of the two convolutional layers. Each convolutional layer is followed by a pooling layer. In classical Machine Learning terms, it also works as a feature extractor.\n",
        "2. **`Head`**: This implements the fully-connected part of the network. It consists of three fully-connected layers, with the last layer having ten output classes."
      ]
    },
    {
      "cell_type": "markdown",
      "id": "52e3d86d",
      "metadata": {
        "id": "52e3d86d"
      },
      "source": [
        "### 3.1 Convolutional Layer Function Syntax"
      ]
    },
    {
      "cell_type": "markdown",
      "id": "dbe59a94",
      "metadata": {
        "id": "dbe59a94"
      },
      "source": [
        "\n",
        "```python\n",
        "tf.keras.layers.Conv2D(\n",
        "    filters, kernel_size, strides=(1, 1), padding='valid',\n",
        "    data_format=None, dilation_rate=(1, 1), groups=1, activation=None,\n",
        "    use_bias=True, kernel_initializer='glorot_uniform',\n",
        "    bias_initializer='zeros', kernel_regularizer=None,\n",
        "    bias_regularizer=None, activity_regularizer=None, kernel_constraint=None,\n",
        "    bias_constraint=None, **kwargs)\n",
        "```\n",
        "\n",
        "Where,\n",
        "\n",
        "* **`filters`:** Integer, the dimensionality of the output space (i.e. the number of output filters in the convolution).\n",
        "* **`kernel_size`:** An integer or tuple/list of 2 integers, specifying the height and width of the 2D convolution window. It can be a single integer to specify the same value for all spatial dimensions.\n",
        "* **`strides`:** An integer or tuple/list of 2 integers, specifying the strides of the convolution along the height and width. It can be a single integer to specify the same value for all spatial dimensions. Specifying any stride value != 1 is incompatible with specifying any dilation_rate value != 1.\n",
        "* **`padding`:** one of \"valid\" or \"same\" (case-insensitive). \"valid\" means no padding. \"same\" results in padding with zeros evenly to the left/right or up/down of the input such that output has the same height/width dimension as the input.\n",
        "* **`activation`:**\tActivation function to use. If you don't specify anything, no activation is applied (see keras.activations).\n",
        "* **`use_bias`:** Boolean, whether the layer uses a bias vector.\n",
        "\n",
        "\n",
        "The full documentation is available here:  <a target=\"_blank\"  href=\"https://www.tensorflow.org/api_docs/python/tf/keras/layers/Conv2D\">Conv2D Documentation</a>."
      ]
    },
    {
      "cell_type": "markdown",
      "id": "170d5464",
      "metadata": {
        "id": "170d5464"
      },
      "source": [
        "### 3.2 Dense Layer Function Syntax"
      ]
    },
    {
      "cell_type": "markdown",
      "id": "8b416115",
      "metadata": {
        "id": "8b416115"
      },
      "source": [
        "\n",
        "```python\n",
        "tf.keras.layers.Dense(\n",
        "    units, activation=None, use_bias=True,\n",
        "    kernel_initializer='glorot_uniform',\n",
        "    bias_initializer='zeros', kernel_regularizer=None,\n",
        "    bias_regularizer=None, activity_regularizer=None, kernel_constraint=None,\n",
        "    bias_constraint=None, **kwargs\n",
        ")\n",
        "```\n",
        "\n",
        "Where,\n",
        "\n",
        "* **`units`:**\tPositive integer, dimensionality of the output space.\n",
        "* **`activation`:**\tActivation function to use. If you don't specify anything, no activation is applied (ie. \"linear\" activation: a(x) = x).\n",
        "* **`use_bias`:**\tBoolean, whether the layer uses a bias vector.\n",
        "\n",
        "\n",
        "The full documentation is available here: <a target=\"_blank\"  href=\"https://www.tensorflow.org/api_docs/python/tf/keras/layers/Dense\">Dense Layer Documentation</a>.\n",
        "\n"
      ]
    },
    {
      "cell_type": "markdown",
      "id": "d6c40dd7",
      "metadata": {
        "id": "d6c40dd7"
      },
      "source": [
        "### 3.3 LeNet-5 Model using Keras Function API\n",
        "\n",
        "In this section, we are going to implement the LeNet-5 model in Keras using the functional API. This particualr model is slightly different from the original version which used Average Pooling and Tanh activations. Here, we will use Max Pooling and Relu activations. This function will then be used in the training pipeline described in Section 4."
      ]
    },
    {
      "cell_type": "code",
      "execution_count": 8,
      "id": "fb0acf9b",
      "metadata": {
        "id": "fb0acf9b"
      },
      "outputs": [],
      "source": [
        "from tensorflow.keras import Model\n",
        "from tensorflow.keras.layers import Activation, Conv2D, Dense, Flatten, Input, MaxPool2D"
      ]
    },
    {
      "cell_type": "code",
      "execution_count": 9,
      "id": "2dd00745",
      "metadata": {
        "id": "2dd00745"
      },
      "outputs": [],
      "source": [
        "def LeNet5_model(input_shape=(32, 32, 1), num_classes=10, print_summary=True):\n",
        "\n",
        "    inputs = Input(shape=input_shape)\n",
        "\n",
        "    # BODY (Feature Extractor)\n",
        "    # -------------------------------------\n",
        "    # First convolutional Layer + pooling\n",
        "    # -------------------------------------\n",
        "    x = Conv2D(6, 5, padding='valid')(inputs)              # input size = (32, 32), output size = (28, 28)\n",
        "    x = Activation(\"relu\")(x)                              # output size = (28, 28)\n",
        "    x = MaxPool2D()(x)                                     # output size = (14, 14)\n",
        "\n",
        "    # -------------------------------------\n",
        "    # Second convolutional layer + pooling\n",
        "    # -------------------------------------\n",
        "    x = Conv2D(16, 5, padding='valid')(x)                  # input size = (14, 14), output size = (10, 10)\n",
        "    x = Activation('relu')(x)                              # output size = (10, 10)\n",
        "    feature_extractor_output = MaxPool2D()(x)              # output size = (5, 5)\n",
        "\n",
        "    # Flatten.\n",
        "    flattened = Flatten()(feature_extractor_output)        # 5 * 5 * 16 -> 400\n",
        "\n",
        "    # HEAD\n",
        "    # -------------------------\n",
        "    # Fully conneted layers.\n",
        "    # -------------------------\n",
        "    x = Dense(120, activation='relu')(flattened)           # 400 -> 120\n",
        "    x = Dense(84, activation='relu')(x)                    # 120 -> 84\n",
        "\n",
        "    # Softmax output layer.\n",
        "    headout = Dense(num_classes, activation=\"softmax\")(x)  # 84 -> 10\n",
        "\n",
        "    # Create model.\n",
        "    model = Model(inputs=inputs, outputs=headout, name='LeNet5')\n",
        "\n",
        "    if print_summary:\n",
        "        model.summary()\n",
        "\n",
        "    return model"
      ]
    },
    {
      "cell_type": "markdown",
      "id": "cbdd0d3d",
      "metadata": {
        "id": "cbdd0d3d"
      },
      "source": [
        "### 3.4 LeNet-5 Model using Keras Sequential API\n",
        "\n",
        "### <font style=\"color:rgb(50,120,230)\">Coding Exercise</font>\n",
        "\n",
        "The code cell below is an optional exercise for you to complete. You should be familiar with using the sequential API from previous notebooks. However, this is the first time that convolutional layers have been introduced. After you complete the code below, you can (optionally) use this function instead of the function from the previous section (`LeNet5_model`) in the training pipeline, which is described in the following section. Both functions should produce the same results, and the purpose of this exercise is to demonstrate that you can use the Sequential API or the Functional API to implement models in Keras."
      ]
    },
    {
      "cell_type": "code",
      "execution_count": 10,
      "id": "416e8f2b",
      "metadata": {
        "id": "416e8f2b"
      },
      "outputs": [],
      "source": [
        "def LeNet5_model_seq(input_shape=(32, 32, 1), num_classes=10, print_summary=True):\n",
        "\n",
        "    # Instantiate the model.\n",
        "    model = tf.keras.Sequential()\n",
        "\n",
        "    # BODY (Feature Extractor)\n",
        "    # -------------------------------------\n",
        "    # First convolutional Layer + pooling\n",
        "    # -------------------------------------\n",
        "    model.add(Conv2D('YOUR CODE HERE' ))\n",
        "    model.add(MaxPool2D())\n",
        "\n",
        "    # -------------------------------------\n",
        "    # Second convolutional layer + pooling\n",
        "    # -------------------------------------\n",
        "    model.add(Conv2D('YOUR CODE HERE' ))\n",
        "    model.add(MaxPool2D())\n",
        "\n",
        "    # Flatten.\n",
        "    model.add(Flatten())\n",
        "\n",
        "    # HEAD\n",
        "    # -------------------------\n",
        "    # Fully conneted layers.\n",
        "    # -------------------------\n",
        "    model.add(Dense( 'YOUR CODE HERE' ))\n",
        "    model.add(Dense( 'YOUR CODE HERE' ))\n",
        "\n",
        "    # Softmax output layer.\n",
        "    model.add(Dense('YOUR CODE HERE'))\n",
        "\n",
        "    # Display the model summary.\n",
        "    if print_summary:\n",
        "        model.summary()\n",
        "\n",
        "    return model"
      ]
    },
    {
      "cell_type": "markdown",
      "id": "1b06159c",
      "metadata": {
        "id": "1b06159c"
      },
      "source": [
        "## 4 Training Pipeline\n",
        "\n",
        "As we have seen thus far in the course, training neural network models typically involves many steps. We often refer to these steps as a \"training pipeline.\" The training pipeline might vary depending on the problem type, the model architecture, and the dataset, but there are generally major components that involve data pre-processing and data splitting, defining the model in TensorFlow/Keras, compiling and fitting the model, among other details related to logging results and saving model checkpoints. All these steps can be gathered in a training pipeline function as shown below."
      ]
    },
    {
      "cell_type": "markdown",
      "id": "17f1dc6b",
      "metadata": {
        "id": "17f1dc6b"
      },
      "source": [
        "### 4.1 Training Pipeline Implementation"
      ]
    },
    {
      "cell_type": "code",
      "execution_count": 11,
      "id": "e8a0b306",
      "metadata": {
        "id": "e8a0b306"
      },
      "outputs": [],
      "source": [
        "def train_model(train_set, print_model_summary=False):\n",
        "\n",
        "    (X_train, y_train) = train_set\n",
        "\n",
        "    # Initialize the LeNet Model.\n",
        "    model = LeNet5_model(input_shape=(data_config.IMG_HEIGHT, data_config.IMG_WIDTH,data_config.CHANNELS,),\n",
        "                         num_classes=data_config.NUM_CLASSES,\n",
        "                         print_summary=print_model_summary,\n",
        "                        )\n",
        "\n",
        "    # Initialize the LeNet Model (using the Sequentail API)\n",
        "    #model = LeNet5_model_seq(input_shape=(data_config.IMG_HEIGHT, data_config.IMG_WIDTH,data_config.CHANNELS,),\n",
        "    #                    num_classes=data_config.NUM_CLASSES,\n",
        "    #                    print_summary=print_model_summary,)\n",
        "\n",
        "\n",
        "    # Compile the model.\n",
        "    model.compile(optimizer=tf.keras.optimizers.SGD(learning_rate=training_config.LEARNING_RATE),\n",
        "                  loss=tf.keras.losses.CategoricalCrossentropy(from_logits=False),\n",
        "                  metrics=[\"accuracy\"],\n",
        "                 )\n",
        "\n",
        "    print(\"\\n\\n\")\n",
        "    # Train the model.\n",
        "    results = model.fit(X_train,\n",
        "                        y_train,\n",
        "                        epochs=training_config.EPOCHS,\n",
        "                        batch_size=training_config.BATCH_SIZE,\n",
        "                        validation_data=(X_valid, y_valid),\n",
        "                       )\n",
        "\n",
        "    return model, results"
      ]
    },
    {
      "cell_type": "markdown",
      "id": "2ff35145",
      "metadata": {
        "id": "2ff35145"
      },
      "source": [
        "## 5 Training Execution"
      ]
    },
    {
      "cell_type": "code",
      "execution_count": 12,
      "id": "8bb2b613",
      "metadata": {
        "colab": {
          "base_uri": "https://localhost:8080/"
        },
        "id": "8bb2b613",
        "outputId": "34ef5386-6d3b-46fe-c3d9-e9809aa87ad0",
        "scrolled": false
      },
      "outputs": [
        {
          "output_type": "stream",
          "name": "stdout",
          "text": [
            "Model: \"LeNet5\"\n",
            "_________________________________________________________________\n",
            " Layer (type)                Output Shape              Param #   \n",
            "=================================================================\n",
            " input_1 (InputLayer)        [(None, 32, 32, 1)]       0         \n",
            "                                                                 \n",
            " conv2d (Conv2D)             (None, 28, 28, 6)         156       \n",
            "                                                                 \n",
            " activation (Activation)     (None, 28, 28, 6)         0         \n",
            "                                                                 \n",
            " max_pooling2d (MaxPooling2  (None, 14, 14, 6)         0         \n",
            " D)                                                              \n",
            "                                                                 \n",
            " conv2d_1 (Conv2D)           (None, 10, 10, 16)        2416      \n",
            "                                                                 \n",
            " activation_1 (Activation)   (None, 10, 10, 16)        0         \n",
            "                                                                 \n",
            " max_pooling2d_1 (MaxPoolin  (None, 5, 5, 16)          0         \n",
            " g2D)                                                            \n",
            "                                                                 \n",
            " flatten (Flatten)           (None, 400)               0         \n",
            "                                                                 \n",
            " dense (Dense)               (None, 120)               48120     \n",
            "                                                                 \n",
            " dense_1 (Dense)             (None, 84)                10164     \n",
            "                                                                 \n",
            " dense_2 (Dense)             (None, 10)                850       \n",
            "                                                                 \n",
            "=================================================================\n",
            "Total params: 61706 (241.04 KB)\n",
            "Trainable params: 61706 (241.04 KB)\n",
            "Non-trainable params: 0 (0.00 Byte)\n",
            "_________________________________________________________________\n",
            "\n",
            "\n",
            "\n",
            "Epoch 1/21\n",
            "1688/1688 [==============================] - 16s 7ms/step - loss: 0.5965 - accuracy: 0.8184 - val_loss: 0.1617 - val_accuracy: 0.9495\n",
            "Epoch 2/21\n",
            "1688/1688 [==============================] - 11s 7ms/step - loss: 0.1385 - accuracy: 0.9591 - val_loss: 0.1076 - val_accuracy: 0.9677\n",
            "Epoch 3/21\n",
            "1688/1688 [==============================] - 11s 7ms/step - loss: 0.0996 - accuracy: 0.9698 - val_loss: 0.1077 - val_accuracy: 0.9672\n",
            "Epoch 4/21\n",
            "1688/1688 [==============================] - 11s 7ms/step - loss: 0.0796 - accuracy: 0.9749 - val_loss: 0.0757 - val_accuracy: 0.9758\n",
            "Epoch 5/21\n",
            "1688/1688 [==============================] - 12s 7ms/step - loss: 0.0676 - accuracy: 0.9784 - val_loss: 0.0732 - val_accuracy: 0.9775\n",
            "Epoch 6/21\n",
            "1688/1688 [==============================] - 10s 6ms/step - loss: 0.0597 - accuracy: 0.9811 - val_loss: 0.0570 - val_accuracy: 0.9828\n",
            "Epoch 7/21\n",
            "1688/1688 [==============================] - 11s 7ms/step - loss: 0.0526 - accuracy: 0.9834 - val_loss: 0.0560 - val_accuracy: 0.9827\n",
            "Epoch 8/21\n",
            "1688/1688 [==============================] - 11s 7ms/step - loss: 0.0481 - accuracy: 0.9848 - val_loss: 0.0546 - val_accuracy: 0.9842\n",
            "Epoch 9/21\n",
            "1688/1688 [==============================] - 11s 7ms/step - loss: 0.0429 - accuracy: 0.9868 - val_loss: 0.0511 - val_accuracy: 0.9853\n",
            "Epoch 10/21\n",
            "1688/1688 [==============================] - 12s 7ms/step - loss: 0.0387 - accuracy: 0.9878 - val_loss: 0.0492 - val_accuracy: 0.9860\n",
            "Epoch 11/21\n",
            "1688/1688 [==============================] - 12s 7ms/step - loss: 0.0363 - accuracy: 0.9884 - val_loss: 0.0552 - val_accuracy: 0.9833\n",
            "Epoch 12/21\n",
            "1688/1688 [==============================] - 15s 9ms/step - loss: 0.0321 - accuracy: 0.9898 - val_loss: 0.0492 - val_accuracy: 0.9853\n",
            "Epoch 13/21\n",
            "1688/1688 [==============================] - 11s 7ms/step - loss: 0.0290 - accuracy: 0.9905 - val_loss: 0.0507 - val_accuracy: 0.9848\n",
            "Epoch 14/21\n",
            "1688/1688 [==============================] - 11s 7ms/step - loss: 0.0269 - accuracy: 0.9915 - val_loss: 0.0911 - val_accuracy: 0.9743\n",
            "Epoch 15/21\n",
            "1688/1688 [==============================] - 11s 6ms/step - loss: 0.0259 - accuracy: 0.9920 - val_loss: 0.0533 - val_accuracy: 0.9848\n",
            "Epoch 16/21\n",
            "1688/1688 [==============================] - 11s 7ms/step - loss: 0.0236 - accuracy: 0.9926 - val_loss: 0.0488 - val_accuracy: 0.9865\n",
            "Epoch 17/21\n",
            "1688/1688 [==============================] - 11s 7ms/step - loss: 0.0218 - accuracy: 0.9931 - val_loss: 0.0448 - val_accuracy: 0.9870\n",
            "Epoch 18/21\n",
            "1688/1688 [==============================] - 11s 7ms/step - loss: 0.0202 - accuracy: 0.9938 - val_loss: 0.0470 - val_accuracy: 0.9872\n",
            "Epoch 19/21\n",
            "1688/1688 [==============================] - 11s 7ms/step - loss: 0.0177 - accuracy: 0.9946 - val_loss: 0.0452 - val_accuracy: 0.9878\n",
            "Epoch 20/21\n",
            "1688/1688 [==============================] - 11s 7ms/step - loss: 0.0168 - accuracy: 0.9949 - val_loss: 0.0469 - val_accuracy: 0.9867\n",
            "Epoch 21/21\n",
            "1688/1688 [==============================] - 12s 7ms/step - loss: 0.0166 - accuracy: 0.9951 - val_loss: 0.0474 - val_accuracy: 0.9878\n"
          ]
        }
      ],
      "source": [
        "# Start Training.\n",
        "model, training_results = train_model(train_set=(X_train, y_train), print_model_summary=True)"
      ]
    },
    {
      "cell_type": "markdown",
      "id": "85262cd8",
      "metadata": {
        "id": "85262cd8"
      },
      "source": [
        "### 5.1 Plot Training Results"
      ]
    },
    {
      "cell_type": "code",
      "execution_count": 13,
      "id": "9f47e6e3",
      "metadata": {
        "id": "9f47e6e3"
      },
      "outputs": [],
      "source": [
        "from matplotlib.ticker import (MultipleLocator, FormatStrFormatter)\n",
        "\n",
        "def plot_results(metrics, ylabel=None, ylim=None, metric_name=None, color=None):\n",
        "\n",
        "    fig, ax = plt.subplots(figsize=(15, 4))\n",
        "\n",
        "    if not (isinstance(metric_name, list) or isinstance(metric_name, tuple)):\n",
        "        metrics = [metrics,]\n",
        "        metric_name = [metric_name,]\n",
        "\n",
        "    for idx, metric in enumerate(metrics):\n",
        "        ax.plot(metric, color=color[idx])\n",
        "\n",
        "    plt.xlabel(\"Epoch\")\n",
        "    plt.ylabel(ylabel)\n",
        "    plt.title(ylabel)\n",
        "    plt.xlim([0, training_config.EPOCHS-1])\n",
        "    plt.ylim(ylim)\n",
        "    # Tailor x-axis tick marks\n",
        "    ax.xaxis.set_major_locator(MultipleLocator(5))\n",
        "    ax.xaxis.set_major_formatter(FormatStrFormatter('%d'))\n",
        "    ax.xaxis.set_minor_locator(MultipleLocator(1))\n",
        "    plt.grid(True)\n",
        "    plt.legend(metric_name)\n",
        "    plt.show(block=block_plot)\n",
        "    plt.close()"
      ]
    },
    {
      "cell_type": "code",
      "execution_count": 14,
      "id": "556a9888",
      "metadata": {
        "colab": {
          "base_uri": "https://localhost:8080/",
          "height": 556
        },
        "id": "556a9888",
        "outputId": "51b99d46-20e7-4e59-edf6-4e61c8143a19"
      },
      "outputs": [
        {
          "output_type": "stream",
          "name": "stdout",
          "text": [
            "dict_keys(['loss', 'accuracy', 'val_loss', 'val_accuracy'])\n"
          ]
        },
        {
          "output_type": "display_data",
          "data": {
            "text/plain": [
              "<Figure size 1500x400 with 1 Axes>"
            ],
            "image/png": "[encoded data removed]"
          },
          "metadata": {}
        },
        {
          "output_type": "display_data",
          "data": {
            "text/plain": [
              "<Figure size 1500x400 with 1 Axes>"
            ],
            "image/png": "[encoded data removed]"
          },
          "metadata": {}
        }
      ],
      "source": [
        "# Print history dictionary keys.\n",
        "print(training_results.history.keys())\n",
        "\n",
        "# Retrieve training results.\n",
        "train_loss = training_results.history[\"loss\"]\n",
        "train_acc  = training_results.history[\"accuracy\"]\n",
        "valid_loss = training_results.history[\"val_loss\"]\n",
        "valid_acc  = training_results.history[\"val_accuracy\"]\n",
        "\n",
        "plot_results([ train_acc, valid_acc ],\n",
        "            ylabel=\"Accuracy\",\n",
        "            ylim = [.5, 1.0],\n",
        "            metric_name=[\"Training Accuracy\", \"Validation Accuracy\"],\n",
        "            color=[\"g\", \"b\"])\n",
        "\n",
        "max_loss = max(max(train_loss), max(valid_loss))\n",
        "\n",
        "plot_results([ train_loss, valid_loss ],\n",
        "            ylabel=\"Loss\",\n",
        "            ylim = [0.0, max_loss],\n",
        "            metric_name=[\"Training Loss\", \"Validation Loss\"],\n",
        "            color=[\"g\", \"b\"]);"
      ]
    },
    {
      "cell_type": "markdown",
      "id": "958ff1c1",
      "metadata": {
        "id": "958ff1c1"
      },
      "source": [
        "## 6 Model Evaluation"
      ]
    },
    {
      "cell_type": "code",
      "execution_count": 15,
      "id": "efbed452",
      "metadata": {
        "id": "efbed452"
      },
      "outputs": [],
      "source": [
        "def evaluate_model(model, *test_set):\n",
        "\n",
        "    X_test, y_test = test_set\n",
        "\n",
        "    # Evaluate model performance on the test set.\n",
        "    test_results = model.evaluate(X_test, y_test)\n",
        "\n",
        "    # Select 20 random points from the test set for display.\n",
        "    random.seed(SEED_VALUE)\n",
        "    num_rows = 4\n",
        "    num_cols = 5\n",
        "    num_data = num_rows*num_cols\n",
        "    shuffled_index = random.sample(range(y_test.shape[0]), num_data)\n",
        "\n",
        "    X_sampled = tf.gather(X_test, shuffled_index)\n",
        "    y_sampled = tf.gather(y_test, shuffled_index)\n",
        "\n",
        "    # Generate predictions on the sampled test set.\n",
        "    y_pred_sampled = model.predict(X_sampled)\n",
        "\n",
        "    num_matches = 0\n",
        "\n",
        "    # Plot the test images and predicted labels.\n",
        "    plt.figure(figsize=(18, 12))\n",
        "    for i in range(num_data):\n",
        "        plt.subplot(num_rows, num_cols, i + 1)\n",
        "        pred = np.argmax(y_pred_sampled[i])\n",
        "        truth = np.argmax(y_sampled[i])\n",
        "        title = 'True: ' + str(truth) + '; Pred: ' + str(pred)\n",
        "        title_obj = plt.title(title, fontdict={'fontsize':16})\n",
        "\n",
        "        if pred == truth:\n",
        "            num_matches += 1\n",
        "            plt.setp(title_obj, color='g')\n",
        "        else:\n",
        "            plt.setp(title_obj, color='r')\n",
        "        plt.axis(\"off\")\n",
        "        plt.imshow(X_sampled[i].numpy().squeeze(), cmap=\"gray\")\n",
        "\n",
        "    plt.subplots_adjust(wspace=0.2, hspace=0.2)\n",
        "    plt.show(block=block_plot)\n",
        "\n",
        "    return test_results"
      ]
    },
    {
      "cell_type": "code",
      "execution_count": 16,
      "id": "b6de5934",
      "metadata": {
        "colab": {
          "base_uri": "https://localhost:8080/",
          "height": 633
        },
        "id": "b6de5934",
        "outputId": "bf85f968-8838-4f4e-cccb-e3ffa3cb5b30",
        "scrolled": false
      },
      "outputs": [
        {
          "output_type": "stream",
          "name": "stdout",
          "text": [
            "313/313 [==============================] - 1s 4ms/step - loss: 0.0417 - accuracy: 0.9869\n",
            "1/1 [==============================] - 0s 128ms/step\n"
          ]
        },
        {
          "output_type": "display_data",
          "data": {
            "text/plain": [
              "<Figure size 1800x1200 with 20 Axes>"
            ],
            "image/png": "[encoded data removed]"
          },
          "metadata": {}
        }
      ],
      "source": [
        "test_set = (X_test, y_test)\n",
        "test_results = evaluate_model(model, *test_set)"
      ]
    },
    {
      "cell_type": "markdown",
      "id": "10b0d77f",
      "metadata": {
        "id": "10b0d77f"
      },
      "source": [
        "## 7 Conclusion\n",
        "\n"
      ]
    },
    {
      "cell_type": "markdown",
      "id": "406a070b",
      "metadata": {
        "id": "406a070b"
      },
      "source": [
        "In this notebook we learned how to implement a straightforward CNN model using Keras, which served as a gentle introduction to the basic building blocks used in modern-day CNN architectures. We also developed more robust and modular code by incorporating more error checking and encapsulating functionality within re-usable functions."
      ]
    },
    {
      "cell_type": "code",
      "execution_count": null,
      "id": "6598a8f1",
      "metadata": {
        "id": "6598a8f1"
      },
      "outputs": [],
      "source": []
    }
  ],
  "metadata": {
    "accelerator": "GPU",
    "colab": {
      "provenance": [],
      "include_colab_link": true
    },
    "hide_input": false,
    "kernelspec": {
      "display_name": "Python 3 (ipykernel)",
      "language": "python",
      "name": "python3"
    },
    "language_info": {
      "codemirror_mode": {
        "name": "ipython",
        "version": 3
      },
      "file_extension": ".py",
      "mimetype": "text/x-python",
      "name": "python",
      "nbconvert_exporter": "python",
      "pygments_lexer": "ipython3",
      "version": "3.8.13"
    },
    "latex_envs": {
      "LaTeX_envs_menu_present": true,
      "autoclose": false,
      "autocomplete": true,
      "bibliofile": "biblio.bib",
      "cite_by": "apalike",
      "current_citInitial": 1,
      "eqLabelWithNumbers": true,
      "eqNumInitial": 1,
      "hotkeys": {
        "equation": "Ctrl-E",
        "itemize": "Ctrl-I"
      },
      "labels_anchors": false,
      "latex_user_defs": false,
      "report_style_numbering": false,
      "user_envs_cfg": false
    },
    "toc": {
      "base_numbering": 1,
      "nav_menu": {},
      "number_sections": true,
      "sideBar": true,
      "skip_h1_title": false,
      "title_cell": "Table of Contents",
      "title_sidebar": "Contents",
      "toc_cell": true,
      "toc_position": {
        "height": "calc(100% - 180px)",
        "left": "10px",
        "top": "150px",
        "width": "234.206px"
      },
      "toc_section_display": true,
      "toc_window_display": false
    },
    "varInspector": {
      "cols": {
        "lenName": 16,
        "lenType": 16,
        "lenVar": 40
      },
      "kernels_config": {
        "python": {
          "delete_cmd_postfix": "",
          "delete_cmd_prefix": "del ",
          "library": "var_list.py",
          "varRefreshCmd": "print(var_dic_list())"
        },
        "r": {
          "delete_cmd_postfix": ") ",
          "delete_cmd_prefix": "rm(",
          "library": "var_list.r",
          "varRefreshCmd": "cat(var_dic_list()) "
        }
      },
      "types_to_exclude": [
        "module",
        "function",
        "builtin_function_or_method",
        "instance",
        "_Feature"
      ],
      "window_display": false
    }
  },
  "nbformat": 4,
  "nbformat_minor": 5
}