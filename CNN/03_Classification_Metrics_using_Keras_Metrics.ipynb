{
  "cells": [
    {
      "cell_type": "markdown",
      "metadata": {
        "id": "view-in-github",
        "colab_type": "text"
      },
      "source": [
        "<a href=\"https://colab.research.google.com/github/apothula/dl/blob/main/CNN/03_Classification_Metrics_using_Keras_Metrics.ipynb\" target=\"_parent\"><img src=\"https://colab.research.google.com/assets/colab-badge.svg\" alt=\"Open In Colab\"/></a>"
      ]
    },
    {
      "cell_type": "markdown",
      "metadata": {
        "id": "SQBjIFEVzVQf",
        "lines_to_next_cell": 0
      },
      "source": [
        "<h1 style=\"font-size:30px;\">Classification Evaluation Metrics using Keras Metrics</h1>"
      ]
    },
    {
      "cell_type": "markdown",
      "metadata": {
        "id": "FhsIf2jwzVQf",
        "lines_to_next_cell": 0
      },
      "source": [
        "In the previous notebook, you learned how to implement evaluation metrics for classification from scratch. But we need not always do that. Libraries like Scikit-Learn already provide such functionalities. In fact, we can also use all those metrics from the `tf.keras.metrics` module. And that is exactly what we will be doing in this notebook."
      ]
    },
    {
      "cell_type": "markdown",
      "metadata": {
        "id": "g9foLzVLzVQa"
      },
      "source": [
        "## Table of Contents\n",
        "* [1 Classification Evaluation Metrics](#1-Classification-Evaluation-Metrics)\n",
        "* [2 Generate Dataset](#2-Generate-Dataset)\n",
        "* [3 Create Logistic Regression Model](#3-Create-Logistic-Regression-Model)\n",
        "* [4 Training and Prediction](#4-Training-and-Prediction)\n",
        "* [5 Confusion Matrix](#5-Confusion-Matrix)\n",
        "* [6 Accuracy](#6-Accuracy)\n",
        "* [7 Precision](#7-Precision)\n",
        "* [8 Recall / Sensitivity](#8-Recall-/-Sensitivity)\n",
        "* [9 F1-Score](#9-F1-Score)\n",
        "* [10 ROC-Curve](#10-ROC-Curve)\n",
        "    * [10.1 ROC Curve using Confusion Matrix](#10.1-ROC-Curve-using-Confusion-Matrix)"
      ]
    },
    {
      "cell_type": "markdown",
      "metadata": {
        "id": "f0JJx0xKzVQg"
      },
      "source": [
        "For the sake of simplicity, we will illustrate the performance metrics for the task of point classification to two classes: [0, 1].\n",
        "\n",
        "The code till training and prediction section will remain exactly the same as the previous notebook.\n",
        "\n",
        "To begin with, let's import all of the required packages."
      ]
    },
    {
      "cell_type": "code",
      "execution_count": null,
      "metadata": {
        "id": "2iUz9K_2zVQg"
      },
      "outputs": [],
      "source": [
        "import numpy as np\n",
        "import tensorflow as tf\n",
        "import matplotlib.pyplot as plt\n",
        "import matplotlib\n",
        "\n",
        "import seaborn as sn\n",
        "# scikit-learn modules to create data\n",
        "from sklearn.datasets import make_classification\n",
        "from sklearn.model_selection import train_test_split\n",
        "# keras modules to build model\n",
        "from tensorflow.keras.layers import Dense\n",
        "from tensorflow.keras.models import Sequential\n",
        "from tensorflow.keras.optimizers import SGD\n",
        "\n",
        "block_plot = False\n",
        "matplotlib.style.use('ggplot')\n",
        "plt.rcParams[\"figure.figsize\"] = (10, 7)"
      ]
    },
    {
      "cell_type": "markdown",
      "metadata": {
        "id": "CFgP39A9zVQi"
      },
      "source": [
        "## 2 Generate Dataset"
      ]
    },
    {
      "cell_type": "markdown",
      "metadata": {
        "id": "AUSSJvqSzVQi",
        "lines_to_next_cell": 0
      },
      "source": [
        "For our purposes, we need to create a dataset. We use\n",
        "[make_classification](https://scikit-learn.org/stable/modules/generated/sklearn.datasets.make_classification.html)\n",
        "function from scikit-learn library. It generates a random n-class classification problem with normally distributed\n",
        "clusters of points. We also add uniformly distributed points as noise to our data.\n",
        "\n",
        "To get the details about the functon `sklearn.datasets.make_classification` read\n",
        "<a href=\"https://scikit-learn.org/stable/modules/generated/sklearn.datasets.make_classification.html\" target=_blank>here</a>."
      ]
    },
    {
      "cell_type": "code",
      "execution_count": null,
      "metadata": {
        "id": "_BJsE_e9zVQj",
        "outputId": "4b17b0e4-6481-4316-ebb2-f12b5f61c9ae",
        "colab": {
          "base_uri": "https://localhost:8080/",
          "height": 463
        }
      },
      "outputs": [
        {
          "output_type": "stream",
          "name": "stdout",
          "text": [
            "Inputs (X) shape: (100, 2)\n",
            "Lables (y) shape: (100,)\n"
          ]
        },
        {
          "output_type": "display_data",
          "data": {
            "text/plain": [
              "<Figure size 720x504 with 1 Axes>"
            ],
            "image/png": "[encoded data removed]"
          },
          "metadata": {}
        }
      ],
      "source": [
        "# Choose a random seed.\n",
        "seed = 42\n",
        "# Fix it for numpy and tensorflow calculations.\n",
        "rng = np.random.RandomState(seed)\n",
        "tf.random.set_seed(seed)\n",
        "\n",
        "# Generate classification data as a set of points and their labels.\n",
        "x, y = make_classification(\n",
        "    n_features=2,\n",
        "    n_redundant=0,\n",
        "    n_informative=2,\n",
        "    random_state=seed,\n",
        "    n_clusters_per_class=1\n",
        ")\n",
        "\n",
        "# Add random uniform noise to the data.\n",
        "x += 4 * rng.uniform(size=x.shape)\n",
        "\n",
        "print('Inputs (X) shape: {}'.format(x.shape))\n",
        "print('Lables (y) shape: {}'.format(y.shape))\n",
        "\n",
        "plt.scatter(x[:,0], x[:,1],c=y,edgecolor='k');"
      ]
    },
    {
      "cell_type": "markdown",
      "metadata": {
        "id": "GoFpDd4mzVQl"
      },
      "source": [
        "## 3 Create a Logistic Regression Model\n",
        "Here we will train a [Logistic Regression](https://en.wikipedia.org/wiki/Logistic_regression) classifier. Logistic regression is equivalent to a one-layer neural network with sigmoid activation.\n",
        "\n",
        "We are using sigmoid activation, so the model prediction will be the prediction probability of class 1.\n",
        "\n",
        "Basically, logistic regression is equivalent to a one-layer neural network, so let's implement it with TensorFlow.\n",
        "The output vector `y_predicted` consists of the predicted estimations on whether the points belong to the class with\n",
        "label '1'.\n",
        "It is worth mentioning that `tf.keras` provides a mechanism for training, hence it is not needed to create any special\n",
        "classes to fit the model and make predictions.\n",
        "\n",
        "The following function creates the Logistic Regression Model using the TensorFlow `Sequential()` method."
      ]
    },
    {
      "cell_type": "code",
      "execution_count": null,
      "metadata": {
        "id": "cp2UgdlKzVQl"
      },
      "outputs": [],
      "source": [
        "# two-class logistic regression model\n",
        "def logistic_regression(train_input):\n",
        "    logistic_regression_model = Sequential()\n",
        "\n",
        "    # model consists of one layer and sigmoid activation\n",
        "    logistic_regression_model.add(Dense(1, activation='sigmoid', input_dim=train_input.shape[1]))\n",
        "    return logistic_regression_model"
      ]
    },
    {
      "cell_type": "markdown",
      "metadata": {
        "id": "uwO1-zXJzVQm"
      },
      "source": [
        "## 4 Training and Prediction"
      ]
    },
    {
      "cell_type": "markdown",
      "metadata": {
        "id": "oLAsPUzNzVQm",
        "lines_to_next_cell": 0
      },
      "source": [
        "We need to split our data to train and test sets and feed it to the <a href=\"https://en.wikipedia.org/wiki/Logistic_regression\" target=_blank>Logistic Regression</a> algorithm."
      ]
    },
    {
      "cell_type": "markdown",
      "metadata": {
        "id": "K84htdEMzVQm"
      },
      "source": [
        "We use `train_test_split` from scikit-learn library to easily divide our data into train and test subsets. We also\n",
        "should specify loss and optimizer for training. In our case they are Binary Cross Entropy Loss and Stochastic\n",
        "Gradient Descent correspondingly."
      ]
    },
    {
      "cell_type": "code",
      "execution_count": null,
      "metadata": {
        "id": "WG0qJ_WDzVQn",
        "outputId": "9e1ccae7-84e1-4ea9-c83b-5bec65e594df",
        "scrolled": true,
        "colab": {
          "base_uri": "https://localhost:8080/"
        }
      },
      "outputs": [
        {
          "output_type": "stream",
          "name": "stdout",
          "text": [
            "Epoch 1/100\n"
          ]
        },
        {
          "output_type": "stream",
          "name": "stderr",
          "text": [
            "/usr/local/lib/python3.7/dist-packages/keras/optimizer_v2/gradient_descent.py:102: UserWarning: The `lr` argument is deprecated, use `learning_rate` instead.\n",
            "  super(SGD, self).__init__(name, **kwargs)\n"
          ]
        },
        {
          "output_type": "stream",
          "name": "stdout",
          "text": [
            "3/3 [==============================] - 1s 4ms/step - loss: 0.8687 - accuracy: 0.5200\n",
            "Epoch 2/100\n",
            "3/3 [==============================] - 0s 4ms/step - loss: 0.8565 - accuracy: 0.5200\n",
            "Epoch 3/100\n",
            "3/3 [==============================] - 0s 4ms/step - loss: 0.8453 - accuracy: 0.5200\n",
            "Epoch 4/100\n",
            "3/3 [==============================] - 0s 4ms/step - loss: 0.8341 - accuracy: 0.5200\n",
            "Epoch 5/100\n",
            "3/3 [==============================] - 0s 4ms/step - loss: 0.8244 - accuracy: 0.5200\n",
            "Epoch 6/100\n",
            "3/3 [==============================] - 0s 5ms/step - loss: 0.8159 - accuracy: 0.5067\n",
            "Epoch 7/100\n",
            "3/3 [==============================] - 0s 6ms/step - loss: 0.8066 - accuracy: 0.5067\n",
            "Epoch 8/100\n",
            "3/3 [==============================] - 0s 5ms/step - loss: 0.7982 - accuracy: 0.5067\n",
            "Epoch 9/100\n",
            "3/3 [==============================] - 0s 5ms/step - loss: 0.7860 - accuracy: 0.5067\n",
            "Epoch 10/100\n",
            "3/3 [==============================] - 0s 4ms/step - loss: 0.7782 - accuracy: 0.5200\n",
            "Epoch 11/100\n",
            "3/3 [==============================] - 0s 5ms/step - loss: 0.7702 - accuracy: 0.5200\n",
            "Epoch 12/100\n",
            "3/3 [==============================] - 0s 4ms/step - loss: 0.7604 - accuracy: 0.5200\n",
            "Epoch 13/100\n",
            "3/3 [==============================] - 0s 6ms/step - loss: 0.7508 - accuracy: 0.5200\n",
            "Epoch 14/100\n",
            "3/3 [==============================] - 0s 6ms/step - loss: 0.7438 - accuracy: 0.5200\n",
            "Epoch 15/100\n",
            "3/3 [==============================] - 0s 5ms/step - loss: 0.7348 - accuracy: 0.5333\n",
            "Epoch 16/100\n",
            "3/3 [==============================] - 0s 4ms/step - loss: 0.7250 - accuracy: 0.5200\n",
            "Epoch 17/100\n",
            "3/3 [==============================] - 0s 4ms/step - loss: 0.7191 - accuracy: 0.5333\n",
            "Epoch 18/100\n",
            "3/3 [==============================] - 0s 3ms/step - loss: 0.7126 - accuracy: 0.5200\n",
            "Epoch 19/100\n",
            "3/3 [==============================] - 0s 4ms/step - loss: 0.7063 - accuracy: 0.5333\n",
            "Epoch 20/100\n",
            "3/3 [==============================] - 0s 5ms/step - loss: 0.7004 - accuracy: 0.5467\n",
            "Epoch 21/100\n",
            "3/3 [==============================] - 0s 4ms/step - loss: 0.6934 - accuracy: 0.5467\n",
            "Epoch 22/100\n",
            "3/3 [==============================] - 0s 4ms/step - loss: 0.6879 - accuracy: 0.5467\n",
            "Epoch 23/100\n",
            "3/3 [==============================] - 0s 4ms/step - loss: 0.6833 - accuracy: 0.5467\n",
            "Epoch 24/100\n",
            "3/3 [==============================] - 0s 5ms/step - loss: 0.6772 - accuracy: 0.5467\n",
            "Epoch 25/100\n",
            "3/3 [==============================] - 0s 10ms/step - loss: 0.6717 - accuracy: 0.5467\n",
            "Epoch 26/100\n",
            "3/3 [==============================] - 0s 4ms/step - loss: 0.6677 - accuracy: 0.5467\n",
            "Epoch 27/100\n",
            "3/3 [==============================] - 0s 4ms/step - loss: 0.6620 - accuracy: 0.5467\n",
            "Epoch 28/100\n",
            "3/3 [==============================] - 0s 4ms/step - loss: 0.6576 - accuracy: 0.5467\n",
            "Epoch 29/100\n",
            "3/3 [==============================] - 0s 4ms/step - loss: 0.6535 - accuracy: 0.5600\n",
            "Epoch 30/100\n",
            "3/3 [==============================] - 0s 4ms/step - loss: 0.6486 - accuracy: 0.5467\n",
            "Epoch 31/100\n",
            "3/3 [==============================] - 0s 5ms/step - loss: 0.6450 - accuracy: 0.5467\n",
            "Epoch 32/100\n",
            "3/3 [==============================] - 0s 4ms/step - loss: 0.6408 - accuracy: 0.5600\n",
            "Epoch 33/100\n",
            "3/3 [==============================] - 0s 5ms/step - loss: 0.6371 - accuracy: 0.5600\n",
            "Epoch 34/100\n",
            "3/3 [==============================] - 0s 4ms/step - loss: 0.6329 - accuracy: 0.5600\n",
            "Epoch 35/100\n",
            "3/3 [==============================] - 0s 4ms/step - loss: 0.6294 - accuracy: 0.5733\n",
            "Epoch 36/100\n",
            "3/3 [==============================] - 0s 4ms/step - loss: 0.6255 - accuracy: 0.5733\n",
            "Epoch 37/100\n",
            "3/3 [==============================] - 0s 4ms/step - loss: 0.6223 - accuracy: 0.5733\n",
            "Epoch 38/100\n",
            "3/3 [==============================] - 0s 5ms/step - loss: 0.6186 - accuracy: 0.5867\n",
            "Epoch 39/100\n",
            "3/3 [==============================] - 0s 4ms/step - loss: 0.6152 - accuracy: 0.6133\n",
            "Epoch 40/100\n",
            "3/3 [==============================] - 0s 4ms/step - loss: 0.6124 - accuracy: 0.6400\n",
            "Epoch 41/100\n",
            "3/3 [==============================] - 0s 5ms/step - loss: 0.6089 - accuracy: 0.6400\n",
            "Epoch 42/100\n",
            "3/3 [==============================] - 0s 3ms/step - loss: 0.6057 - accuracy: 0.6533\n",
            "Epoch 43/100\n",
            "3/3 [==============================] - 0s 5ms/step - loss: 0.6021 - accuracy: 0.6800\n",
            "Epoch 44/100\n",
            "3/3 [==============================] - 0s 4ms/step - loss: 0.5992 - accuracy: 0.6800\n",
            "Epoch 45/100\n",
            "3/3 [==============================] - 0s 4ms/step - loss: 0.5966 - accuracy: 0.6667\n",
            "Epoch 46/100\n",
            "3/3 [==============================] - 0s 6ms/step - loss: 0.5936 - accuracy: 0.6933\n",
            "Epoch 47/100\n",
            "3/3 [==============================] - 0s 4ms/step - loss: 0.5919 - accuracy: 0.6800\n",
            "Epoch 48/100\n",
            "3/3 [==============================] - 0s 4ms/step - loss: 0.5883 - accuracy: 0.6933\n",
            "Epoch 49/100\n",
            "3/3 [==============================] - 0s 4ms/step - loss: 0.5857 - accuracy: 0.6933\n",
            "Epoch 50/100\n",
            "3/3 [==============================] - 0s 4ms/step - loss: 0.5836 - accuracy: 0.6933\n",
            "Epoch 51/100\n",
            "3/3 [==============================] - 0s 4ms/step - loss: 0.5807 - accuracy: 0.6933\n",
            "Epoch 52/100\n",
            "3/3 [==============================] - 0s 5ms/step - loss: 0.5783 - accuracy: 0.6933\n",
            "Epoch 53/100\n",
            "3/3 [==============================] - 0s 6ms/step - loss: 0.5764 - accuracy: 0.6933\n",
            "Epoch 54/100\n",
            "3/3 [==============================] - 0s 5ms/step - loss: 0.5735 - accuracy: 0.6933\n",
            "Epoch 55/100\n",
            "3/3 [==============================] - 0s 5ms/step - loss: 0.5709 - accuracy: 0.6800\n",
            "Epoch 56/100\n",
            "3/3 [==============================] - 0s 8ms/step - loss: 0.5687 - accuracy: 0.6933\n",
            "Epoch 57/100\n",
            "3/3 [==============================] - 0s 4ms/step - loss: 0.5672 - accuracy: 0.6800\n",
            "Epoch 58/100\n",
            "3/3 [==============================] - 0s 4ms/step - loss: 0.5651 - accuracy: 0.6933\n",
            "Epoch 59/100\n",
            "3/3 [==============================] - 0s 4ms/step - loss: 0.5628 - accuracy: 0.6800\n",
            "Epoch 60/100\n",
            "3/3 [==============================] - 0s 5ms/step - loss: 0.5610 - accuracy: 0.6933\n",
            "Epoch 61/100\n",
            "3/3 [==============================] - 0s 3ms/step - loss: 0.5587 - accuracy: 0.6800\n",
            "Epoch 62/100\n",
            "3/3 [==============================] - 0s 4ms/step - loss: 0.5579 - accuracy: 0.6933\n",
            "Epoch 63/100\n",
            "3/3 [==============================] - 0s 4ms/step - loss: 0.5551 - accuracy: 0.6800\n",
            "Epoch 64/100\n",
            "3/3 [==============================] - 0s 4ms/step - loss: 0.5536 - accuracy: 0.6800\n",
            "Epoch 65/100\n",
            "3/3 [==============================] - 0s 5ms/step - loss: 0.5522 - accuracy: 0.6933\n",
            "Epoch 66/100\n",
            "3/3 [==============================] - 0s 5ms/step - loss: 0.5501 - accuracy: 0.6933\n",
            "Epoch 67/100\n",
            "3/3 [==============================] - 0s 5ms/step - loss: 0.5480 - accuracy: 0.6933\n",
            "Epoch 68/100\n",
            "3/3 [==============================] - 0s 5ms/step - loss: 0.5463 - accuracy: 0.7067\n",
            "Epoch 69/100\n",
            "3/3 [==============================] - 0s 4ms/step - loss: 0.5450 - accuracy: 0.7200\n",
            "Epoch 70/100\n",
            "3/3 [==============================] - 0s 3ms/step - loss: 0.5436 - accuracy: 0.7200\n",
            "Epoch 71/100\n",
            "3/3 [==============================] - 0s 3ms/step - loss: 0.5423 - accuracy: 0.7067\n",
            "Epoch 72/100\n",
            "3/3 [==============================] - 0s 9ms/step - loss: 0.5402 - accuracy: 0.7333\n",
            "Epoch 73/100\n",
            "3/3 [==============================] - 0s 3ms/step - loss: 0.5387 - accuracy: 0.7333\n",
            "Epoch 74/100\n",
            "3/3 [==============================] - 0s 4ms/step - loss: 0.5375 - accuracy: 0.7333\n",
            "Epoch 75/100\n",
            "3/3 [==============================] - 0s 6ms/step - loss: 0.5361 - accuracy: 0.7333\n",
            "Epoch 76/100\n",
            "3/3 [==============================] - 0s 4ms/step - loss: 0.5347 - accuracy: 0.7333\n",
            "Epoch 77/100\n",
            "3/3 [==============================] - 0s 5ms/step - loss: 0.5335 - accuracy: 0.7333\n",
            "Epoch 78/100\n",
            "3/3 [==============================] - 0s 4ms/step - loss: 0.5325 - accuracy: 0.7333\n",
            "Epoch 79/100\n",
            "3/3 [==============================] - 0s 6ms/step - loss: 0.5310 - accuracy: 0.7333\n",
            "Epoch 80/100\n",
            "3/3 [==============================] - 0s 6ms/step - loss: 0.5298 - accuracy: 0.7333\n",
            "Epoch 81/100\n",
            "3/3 [==============================] - 0s 6ms/step - loss: 0.5288 - accuracy: 0.7333\n",
            "Epoch 82/100\n",
            "3/3 [==============================] - 0s 6ms/step - loss: 0.5276 - accuracy: 0.7467\n",
            "Epoch 83/100\n",
            "3/3 [==============================] - 0s 4ms/step - loss: 0.5279 - accuracy: 0.7467\n",
            "Epoch 84/100\n",
            "3/3 [==============================] - 0s 4ms/step - loss: 0.5254 - accuracy: 0.7467\n",
            "Epoch 85/100\n",
            "3/3 [==============================] - 0s 3ms/step - loss: 0.5242 - accuracy: 0.7467\n",
            "Epoch 86/100\n",
            "3/3 [==============================] - 0s 5ms/step - loss: 0.5230 - accuracy: 0.7467\n",
            "Epoch 87/100\n",
            "3/3 [==============================] - 0s 5ms/step - loss: 0.5220 - accuracy: 0.7467\n",
            "Epoch 88/100\n",
            "3/3 [==============================] - 0s 4ms/step - loss: 0.5210 - accuracy: 0.7467\n",
            "Epoch 89/100\n",
            "3/3 [==============================] - 0s 4ms/step - loss: 0.5198 - accuracy: 0.7467\n",
            "Epoch 90/100\n",
            "3/3 [==============================] - 0s 4ms/step - loss: 0.5191 - accuracy: 0.7467\n",
            "Epoch 91/100\n",
            "3/3 [==============================] - 0s 5ms/step - loss: 0.5180 - accuracy: 0.7467\n",
            "Epoch 92/100\n",
            "3/3 [==============================] - 0s 4ms/step - loss: 0.5169 - accuracy: 0.7467\n",
            "Epoch 93/100\n",
            "3/3 [==============================] - 0s 5ms/step - loss: 0.5162 - accuracy: 0.7467\n",
            "Epoch 94/100\n",
            "3/3 [==============================] - 0s 4ms/step - loss: 0.5153 - accuracy: 0.7467\n",
            "Epoch 95/100\n",
            "3/3 [==============================] - 0s 4ms/step - loss: 0.5145 - accuracy: 0.7467\n",
            "Epoch 96/100\n",
            "3/3 [==============================] - 0s 5ms/step - loss: 0.5142 - accuracy: 0.7467\n",
            "Epoch 97/100\n",
            "3/3 [==============================] - 0s 4ms/step - loss: 0.5131 - accuracy: 0.7600\n",
            "Epoch 98/100\n",
            "3/3 [==============================] - 0s 4ms/step - loss: 0.5123 - accuracy: 0.7600\n",
            "Epoch 99/100\n",
            "3/3 [==============================] - 0s 5ms/step - loss: 0.5118 - accuracy: 0.7600\n",
            "Epoch 100/100\n",
            "3/3 [==============================] - 0s 4ms/step - loss: 0.5105 - accuracy: 0.7600\n"
          ]
        }
      ],
      "source": [
        "# prepare train and test data\n",
        "x_train, x_test, y_train, y_test = train_test_split(x, y, test_size=0.25, random_state=seed)\n",
        "\n",
        "x_train, y_train = tf.convert_to_tensor(x_train, dtype=tf.float32),\\\n",
        "                   tf.convert_to_tensor(y_train, dtype=tf.float32)\n",
        "\n",
        "x_test, y_test = tf.convert_to_tensor(x_test, dtype=tf.float32),\\\n",
        "                 tf.convert_to_tensor(y_test, dtype=tf.float32)\n",
        "\n",
        "# define model\n",
        "log_regression_model = logistic_regression(train_input=x_train)\n",
        "\n",
        "# define optimizer\n",
        "optimizer = SGD(lr=0.01)\n",
        "\n",
        "# set optimizer, loss and metrics for our training\n",
        "log_regression_model.compile(optimizer=optimizer, loss='binary_crossentropy', metrics=['accuracy'])\n",
        "\n",
        "# initialize and start training\n",
        "log_regression_model.fit(epochs=100, x=x_train, y=y_train, use_multiprocessing=False)\n",
        "\n",
        "# get predicted labels after training is done\n",
        "y_predicted = log_regression_model.predict(x_test)"
      ]
    },
    {
      "cell_type": "markdown",
      "metadata": {
        "id": "hQb8NUH5zVQn"
      },
      "source": [
        "## 5 Confusion Matrix\n",
        "<img src=\"https://www.learnopencv.com/wp-content/uploads/2020/01/c3_w3_confusion_matrix.png\" width=600>\n",
        "\n",
        "Using tf.keras.metrics, we can very easily obtain the TruePositive (`TP`), FalsePositive (`FP`), TrueNegative (`TN`), and FalseNegative (`FN`). We just need to initilialize the correct method and call the `update_state()` method.\n",
        "\n",
        "For example, the following code syntax show how to obtain `TP`:\n",
        "```\n",
        "TP = tf.keras.metrics.TruePositives(\n",
        "        thresholds=thres_prob, name=None, dtype=None\n",
        "    )\n",
        "TP.update_state(y_test, y_predicted)\n",
        "TP.result().numpy()\n",
        "```\n",
        "\n",
        "The `TP.result().numpy()` outputs the final `TP` value.\n",
        "\n",
        "To know the details of `tf.keras.metrics`, you can visit the <a href=\"https://www.tensorflow.org/api_docs/python/tf/keras/metrics\" target=_blank>official docs</a>.\n",
        "\n",
        "Below, we have implemented two functions:\n",
        "* `get_tp_fp_tn_fn()`: This function accepts the thres_prob as an argument and return the `TP`, `FP`, `FN`, `TN` values.\n",
        "* `confusion_matrix()`: This function accepts the `TP`, `FP`, `FN`, `TN` values and returns the confusion metrics.\n",
        "\n",
        "**`confusion_matrix`:** Returns confusion matrix:\n",
        "```\n",
        "[[TP, FP],\n",
        " [FN, TN]]\n",
        "```"
      ]
    },
    {
      "cell_type": "code",
      "execution_count": null,
      "metadata": {
        "id": "XVBgOh7TzVQn"
      },
      "outputs": [],
      "source": [
        "def confusion_matrix(TP, FP, FN, TN):\n",
        "        \"\"\"\n",
        "        get confusion matrix as defined in figure\n",
        "        \"\"\"\n",
        "        cm = np.array([[TP, FP],\n",
        "                      [FN, TN]])\n",
        "\n",
        "        num_p = TP + FP\n",
        "        num_n = TN + FN\n",
        "\n",
        "        cm_norm = np.array([[TP/num_p, FP/num_p],\n",
        "                            [FN/num_n, TN/num_n]])\n",
        "        return cm, cm_norm\n",
        "\n",
        "def get_tp_fp_tn_fn(thres_prob=0.5):\n",
        "    TP = tf.keras.metrics.TruePositives(\n",
        "        thresholds=thres_prob, name=None, dtype=None\n",
        "    )\n",
        "    TP.update_state(y_test, y_predicted)\n",
        "    FP = tf.keras.metrics.FalsePositives(\n",
        "        thresholds=thres_prob, name=None, dtype=None\n",
        "    )\n",
        "    FP.update_state(y_test, y_predicted)\n",
        "    TN = tf.keras.metrics.TrueNegatives(\n",
        "        thresholds=thres_prob, name=None, dtype=None\n",
        "    )\n",
        "    TN.update_state(y_test, y_predicted)\n",
        "    FN = tf.keras.metrics.FalseNegatives(\n",
        "        thresholds=thres_prob, name=None, dtype=None\n",
        "    )\n",
        "    FN.update_state(y_test, y_predicted)\n",
        "    return TP.result().numpy(), FP.result().numpy(), FN.result().numpy(), TN.result().numpy()"
      ]
    },
    {
      "cell_type": "code",
      "execution_count": null,
      "metadata": {
        "id": "aKEIGK48zVQo",
        "outputId": "00dbc555-6b70-49a8-8a06-845c0b8163e2",
        "colab": {
          "base_uri": "https://localhost:8080/",
          "height": 730
        }
      },
      "outputs": [
        {
          "output_type": "stream",
          "name": "stdout",
          "text": [
            "Confusion Matrix for threshold probability 0.5\n"
          ]
        },
        {
          "output_type": "stream",
          "name": "stderr",
          "text": [
            "/usr/local/lib/python3.7/dist-packages/ipykernel_launcher.py:12: RuntimeWarning: invalid value encountered in float_scalars\n",
            "  if sys.path[0] == '':\n"
          ]
        },
        {
          "output_type": "display_data",
          "data": {
            "text/plain": [
              "<Figure size 864x360 with 2 Axes>"
            ],
            "image/png": "[encoded data removed]"
          },
          "metadata": {}
        },
        {
          "output_type": "stream",
          "name": "stdout",
          "text": [
            "Confusion Matrix for threshold probability 0.6\n"
          ]
        },
        {
          "output_type": "display_data",
          "data": {
            "text/plain": [
              "<Figure size 864x360 with 2 Axes>"
            ],
            "image/png": "[encoded data removed]"
          },
          "metadata": {}
        }
      ],
      "source": [
        "# threshold probability 0.5\n",
        "tp, fp, fn, tn = get_tp_fp_tn_fn(0.1)\n",
        "print('Confusion Matrix for threshold probability 0.5')\n",
        "cm, cm_norm = confusion_matrix(tp, fp, fn, tn)\n",
        "\n",
        "\n",
        "\n",
        "plt.figure(figsize=[12, 5])\n",
        "sn.heatmap(cm_norm, annot=True, annot_kws={\"size\": 16})\n",
        "plt.xlabel('Predicted')\n",
        "plt.ylabel('Truth')\n",
        "plt.show()\n",
        "\n",
        "# threshold probability 0.6\n",
        "tp, fp, fn, tn = get_tp_fp_tn_fn(0.6)\n",
        "print('Confusion Matrix for threshold probability 0.6')\n",
        "cm, cm_norm = confusion_matrix(tp, fp, fn, tn)\n",
        "\n",
        "plt.figure(figsize=[12, 5])\n",
        "sn.heatmap(cm_norm, annot=True, annot_kws={\"size\": 16})\n",
        "plt.xlabel('Predicted')\n",
        "plt.ylabel('Truth')\n",
        "plt.show()\n"
      ]
    },
    {
      "cell_type": "markdown",
      "metadata": {
        "id": "SRjOBGpnzVQo"
      },
      "source": [
        "TensorFlow also provides `tf.math.confusion_matrix()` function. We can use this function to directly get the confusion matrix by providing the true labels and predicted labels as arguments. To know more, you may visit the <a href=\"https://www.tensorflow.org/api_docs/python/tf/math/confusion_matrix\" target=_blank>official docs</a>."
      ]
    },
    {
      "cell_type": "code",
      "execution_count": null,
      "metadata": {
        "id": "bwVzq6CwzVQo",
        "outputId": "f069f9a5-8eb6-43bc-893b-e5944a0d326e",
        "colab": {
          "base_uri": "https://localhost:8080/",
          "height": 341
        }
      },
      "outputs": [
        {
          "output_type": "display_data",
          "data": {
            "text/plain": [
              "<Figure size 864x360 with 2 Axes>"
            ],
            "image/png": "[encoded data removed]"
          },
          "metadata": {}
        }
      ],
      "source": [
        "preds = tf.cast(y_predicted>0.5, dtype=tf.float32)\n",
        "\n",
        "cm = tf.math.confusion_matrix(y_test, preds)\n",
        "\n",
        "plt.figure(figsize=[12, 5])\n",
        "sn.heatmap(cm, annot=True, fmt='d', annot_kws={\"size\": 16})\n",
        "plt.xlabel('Predicted')\n",
        "plt.ylabel('Truth')\n",
        "plt.show()"
      ]
    },
    {
      "cell_type": "markdown",
      "metadata": {
        "id": "we2RIwjNzVQp"
      },
      "source": [
        "## 6 Accuracy\n",
        "<img src=\"https://www.learnopencv.com/wp-content/uploads/2020/01/c3_w3_accuracy.png\" width=600>"
      ]
    },
    {
      "cell_type": "markdown",
      "metadata": {
        "id": "U2kj6x1HzVQp"
      },
      "source": [
        "$$\n",
        "accuracy = \\frac{TP + TN}{TP + FP + FN + TN}\n",
        "$$"
      ]
    },
    {
      "cell_type": "markdown",
      "metadata": {
        "id": "OP4K2MiezVQp"
      },
      "source": [
        "We can use the <a href=\"https://www.tensorflow.org/api_docs/python/tf/keras/metrics/binary_accuracy\" target=_blank>`binary_accuracy()`</a> function from `tf.keras.metrics` to calculate the accuracy. We just need to provide the `y_test`, `y_predicted`, and the desired `threshold` as arguments.\n",
        "\n",
        "***Note***: *The true labels and predicted values should have the same dimension. Therefore, in the following code block, we are adding an extra batch dimension to `y_test` using `tf.expand_dims`.*"
      ]
    },
    {
      "cell_type": "code",
      "execution_count": null,
      "metadata": {
        "id": "p0hUu-GvzVQp",
        "outputId": "0c629a57-f9fd-4dc8-832d-1d6829d08440",
        "colab": {
          "base_uri": "https://localhost:8080/"
        }
      },
      "outputs": [
        {
          "output_type": "stream",
          "name": "stdout",
          "text": [
            "Accuracy at threshold 0.5: 0.6399999856948853\n"
          ]
        }
      ],
      "source": [
        "preds = tf.cast(y_predicted >= 0.5, dtype=tf.float32)\n",
        "accuracy = tf.keras.metrics.binary_accuracy(tf.expand_dims(y_test, 1), y_predicted, threshold=0.5)\n",
        "print(f\"Accuracy at threshold 0.5: {tf.reduce_mean(accuracy).numpy()}\")"
      ]
    },
    {
      "cell_type": "markdown",
      "metadata": {
        "id": "R-m_NJJlzVQq"
      },
      "source": [
        "## 7 Precision\n",
        "<img src=\"https://www.learnopencv.com/wp-content/uploads/2020/01/c3_w3_precision.png\" width=600>\n",
        "\n",
        "$$\n",
        "precision = \\frac{TP}{TP + FP}\n",
        "$$"
      ]
    },
    {
      "cell_type": "markdown",
      "metadata": {
        "id": "zjzmGjLgzVQq"
      },
      "source": [
        "\n",
        "\n",
        "To calculate the precision value at a certain threshold, we can use `tf.keras.metrics.Precision()`. See the <a href=\"https://www.tensorflow.org/api_docs/python/tf/keras/metrics/Precision\" target=_blank>docs here</a>."
      ]
    },
    {
      "cell_type": "code",
      "execution_count": null,
      "metadata": {
        "id": "o_6Lw7hPzVQq",
        "outputId": "45a00159-8d78-4c99-9871-89d5db5c8d77",
        "colab": {
          "base_uri": "https://localhost:8080/"
        }
      },
      "outputs": [
        {
          "output_type": "stream",
          "name": "stdout",
          "text": [
            "Precision at threhold 0.5: 0.5714285969734192\n"
          ]
        }
      ],
      "source": [
        "threshold = 0.5\n",
        "precision = tf.keras.metrics.Precision(thresholds=threshold)\n",
        "precision.update_state(y_test, y_predicted)\n",
        "print(f\"Precision at threhold 0.5: {precision.result().numpy()}\")"
      ]
    },
    {
      "cell_type": "markdown",
      "metadata": {
        "id": "AI087Uz6zVQq"
      },
      "source": [
        "## 8 Recall / Sensitivity\n",
        "<img src='https://www.learnopencv.com/wp-content/uploads/2020/01/c3_w3_recall.png' width=600>\n",
        "\n",
        "$$\n",
        "recall = \\frac{TP}{TP + FN}\n",
        "$$\n",
        "\n",
        "For caluclating recall, we can use the `tf.keras.metrics.Recall()` class. See <a href=\"https://www.tensorflow.org/api_docs/python/tf/keras/metrics/Recall\" target=_blank>docs here</a>."
      ]
    },
    {
      "cell_type": "code",
      "execution_count": null,
      "metadata": {
        "id": "8SWgZqWqzVQr",
        "outputId": "9415dc9b-d75e-403b-b964-8ded6da95052",
        "colab": {
          "base_uri": "https://localhost:8080/"
        }
      },
      "outputs": [
        {
          "output_type": "stream",
          "name": "stdout",
          "text": [
            "Recall at threhold 0.5: 0.7272727489471436\n"
          ]
        }
      ],
      "source": [
        "threshold = 0.5\n",
        "precision = tf.keras.metrics.Recall(thresholds=threshold)\n",
        "precision.update_state(y_test, y_predicted)\n",
        "print(f\"Recall at threhold 0.5: {precision.result().numpy()}\")"
      ]
    },
    {
      "cell_type": "markdown",
      "metadata": {
        "id": "FNE7BdPczVQr"
      },
      "source": [
        "## 9 F1-Score\n",
        "$$\n",
        "F_1 score = \\frac{2 TP}{2TP + FP + FN}\n",
        "$$\n",
        "\n",
        "But TensorFlow does not provide any predifined class or function to calculate the F1-score. Still, we can do that pretty easily. We know that using `tf.keras.metrics` we can calculate the TP, FP, FN, and TN. After that, we can use the above formula to calcuate the F1-score. It is still less work when compared to writing everything from scratch."
      ]
    },
    {
      "cell_type": "code",
      "execution_count": null,
      "metadata": {
        "id": "1jvNJv3zzVQr",
        "outputId": "14a168c3-5b89-4510-c7e2-3c24e717baaf",
        "colab": {
          "base_uri": "https://localhost:8080/"
        }
      },
      "outputs": [
        {
          "output_type": "stream",
          "name": "stdout",
          "text": [
            "F1-Score at threhold 0.5: 0.64\n"
          ]
        }
      ],
      "source": [
        "thres_prob = 0.5\n",
        "predictions = y_predicted > thres_prob\n",
        "tp, fp, fn, tn = get_tp_fp_tn_fn(thres_prob)\n",
        "f1_score = (2*tp)/(2*tp + fp + fn)\n",
        "print(f\"F1-Score at threhold 0.5: {f1_score}\")"
      ]
    },
    {
      "cell_type": "markdown",
      "metadata": {
        "id": "_izE-vI4zVQr"
      },
      "source": [
        "## 10 ROC Curve\n",
        "\n",
        "<img src=\"https://www.learnopencv.com/wp-content/uploads/2020/01/c3_w3_roc.png\" width=700>\n",
        "\n",
        "\n",
        "\\begin{align}\n",
        "TPR (recall) &= \\frac{TP}{TP + FN} \\\\\n",
        "FPR &= \\frac{FP}{FP + TN} \\\\\n",
        "\\end{align}"
      ]
    },
    {
      "cell_type": "markdown",
      "metadata": {
        "id": "cyGFuckPzVQr"
      },
      "source": [
        "### 10.1 ROC Curve using Confusion Matrix\n",
        "We can calculate the AUC value using the `tf.keras.metrics.AUC()`. But before that, we generate a list of threshold values. The following code cell generates 1000 threshold values and stores them in `thresholds`."
      ]
    },
    {
      "cell_type": "code",
      "execution_count": null,
      "metadata": {
        "id": "vw15g7YSzVQs",
        "outputId": "7a79968e-c77c-40b9-c6d9-5856b5ae143d",
        "colab": {
          "base_uri": "https://localhost:8080/"
        }
      },
      "outputs": [
        {
          "output_type": "execute_result",
          "data": {
            "text/plain": [
              "1000"
            ]
          },
          "metadata": {},
          "execution_count": 12
        }
      ],
      "source": [
        "thresholds = np.linspace(0.001, 0.999, 1000)\n",
        "len(thresholds)"
      ]
    },
    {
      "cell_type": "markdown",
      "metadata": {
        "id": "22BTTt9zzVQs"
      },
      "source": [
        "Then we can initialize the `tf.keras.metrics.AUC()` class and call the `update_state()` method to get the AUC."
      ]
    },
    {
      "cell_type": "code",
      "execution_count": null,
      "metadata": {
        "id": "v6fWJFfxzVQs",
        "outputId": "2e196ed5-4703-4c51-af26-0038eafd9d68",
        "colab": {
          "base_uri": "https://localhost:8080/"
        }
      },
      "outputs": [
        {
          "output_type": "stream",
          "name": "stdout",
          "text": [
            "AUC: 0.7824674844741821\n"
          ]
        }
      ],
      "source": [
        "auc = tf.keras.metrics.AUC(thresholds=thresholds)\n",
        "auc.update_state(y_test, y_predicted)\n",
        "print(f\"AUC: {auc.result().numpy()}\")"
      ]
    },
    {
      "cell_type": "markdown",
      "metadata": {
        "id": "SDN0TWmLzVQs"
      },
      "source": [
        "Now to plot the ROC curve using the `thresholds`."
      ]
    },
    {
      "cell_type": "code",
      "execution_count": null,
      "metadata": {
        "id": "4j2Bn6MrzVQs"
      },
      "outputs": [],
      "source": [
        "tpr_list, fpr_list = [], []\n",
        "for threshold in thresholds:\n",
        "    # get TP, FP, FN, and TN to calculate TPR and FPR\n",
        "    tp, fp, fn, tn = get_tp_fp_tn_fn(threshold)\n",
        "\n",
        "    # Sensitivity, recall, or true positive rate\n",
        "    tpr = tp / (tp + fn)\n",
        "    tpr_list.append(tpr)\n",
        "\n",
        "    # False positive rate\n",
        "    fpr = fp / (fp + tn)\n",
        "    fpr_list.append(fpr)"
      ]
    },
    {
      "cell_type": "code",
      "execution_count": null,
      "metadata": {
        "id": "FD6QvN7pzVQt",
        "outputId": "75cdeb52-a8ec-42ad-abc8-7521233ebbf2",
        "colab": {
          "base_uri": "https://localhost:8080/",
          "height": 462
        }
      },
      "outputs": [
        {
          "output_type": "display_data",
          "data": {
            "text/plain": [
              "<Figure size 720x504 with 1 Axes>"
            ],
            "image/png": "[encoded data removed]"
          },
          "metadata": {}
        }
      ],
      "source": [
        "plt.plot(fpr_list, tpr_list, label='ROC curve', color='b')\n",
        "plt.plot([0, 1], [0, 1], label='Random Classifier (AUC = 0.5)', linestyle='--', lw=2, color='r')\n",
        "plt.xlabel('False Positive Rate')\n",
        "plt.ylabel('True Positive Rate')\n",
        "plt.legend(loc=\"lower right\")\n",
        "plt.title('ROC Curve')\n",
        "plt.show(block=block_plot)"
      ]
    },
    {
      "cell_type": "code",
      "execution_count": null,
      "metadata": {
        "id": "jZkwaDbWzVQt"
      },
      "outputs": [],
      "source": []
    }
  ],
  "metadata": {
    "colab": {
      "provenance": [],
      "include_colab_link": true
    },
    "jupytext": {
      "cell_metadata_json": true,
      "encoding": "# -*- coding: utf-8 -*-",
      "formats": "ipynb,py:percent",
      "text_representation": {
        "extension": ".py",
        "format_name": "percent",
        "format_version": "1.2",
        "jupytext_version": "1.2.4"
      }
    },
    "kernelspec": {
      "display_name": "Python 3 (ipykernel)",
      "language": "python",
      "name": "python3"
    },
    "language_info": {
      "codemirror_mode": {
        "name": "ipython",
        "version": 3
      },
      "file_extension": ".py",
      "mimetype": "text/x-python",
      "name": "python",
      "nbconvert_exporter": "python",
      "pygments_lexer": "ipython3",
      "version": "3.8.13"
    },
    "latex_envs": {
      "LaTeX_envs_menu_present": true,
      "autoclose": false,
      "autocomplete": true,
      "bibliofile": "biblio.bib",
      "cite_by": "apalike",
      "current_citInitial": 1,
      "eqLabelWithNumbers": true,
      "eqNumInitial": 1,
      "hotkeys": {
        "equation": "Ctrl-E",
        "itemize": "Ctrl-I"
      },
      "labels_anchors": false,
      "latex_user_defs": false,
      "report_style_numbering": false,
      "user_envs_cfg": false
    },
    "varInspector": {
      "cols": {
        "lenName": 16,
        "lenType": 16,
        "lenVar": 40
      },
      "kernels_config": {
        "python": {
          "delete_cmd_postfix": "",
          "delete_cmd_prefix": "del ",
          "library": "var_list.py",
          "varRefreshCmd": "print(var_dic_list())"
        },
        "r": {
          "delete_cmd_postfix": ") ",
          "delete_cmd_prefix": "rm(",
          "library": "var_list.r",
          "varRefreshCmd": "cat(var_dic_list()) "
        }
      },
      "types_to_exclude": [
        "module",
        "function",
        "builtin_function_or_method",
        "instance",
        "_Feature"
      ],
      "window_display": false
    }
  },
  "nbformat": 4,
  "nbformat_minor": 0
}