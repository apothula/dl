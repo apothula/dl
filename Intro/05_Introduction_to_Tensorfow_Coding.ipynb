{
  "cells": [
    {
      "cell_type": "markdown",
      "metadata": {
        "id": "view-in-github",
        "colab_type": "text"
      },
      "source": [
        "<a href=\"https://colab.research.google.com/github/apothula/dl/blob/main/Intro/05_Introduction_to_Tensorfow_Coding.ipynb\" target=\"_parent\"><img src=\"https://colab.research.google.com/assets/colab-badge.svg\" alt=\"Open In Colab\"/></a>"
      ]
    },
    {
      "cell_type": "markdown",
      "metadata": {
        "id": "moiOUwgn495W"
      },
      "source": [
        "<h1 style=\"font-size:30px;\">TensorFlow Coding Basics</h1>\n",
        "\n",
        "In this notebook, we will cover some of the essential TensorFlow operations that we will use throughout the course. TensorFlow has many analogous functions that are also contained in NumPy, and their usage is straightforward. However, there are a few things in TensorFlow that are unique to TensorFlow, and we will cover several examples in this notebook.\n"
      ]
    },
    {
      "cell_type": "markdown",
      "metadata": {
        "id": "CNDTBRYAXN1F"
      },
      "source": [
        "<img src='https://learnopencv.com/wp-content/uploads/2022/01/c4_01_TF_Logo.png' width=400 align='left'><br/>"
      ]
    },
    {
      "cell_type": "markdown",
      "metadata": {
        "id": "BwvrDR5m44fH"
      },
      "source": [
        "## Table of Contents\n",
        "* [1 TensorFlow Constants and Variables](#1-TensorFlow-Constants-and-Variables)\n",
        "* [2 TensorFlow Reduce Functions](#2-TensorFlow-Reduce-Functions)\n",
        "* [3 TensorFlow Indexing](#3-TensorFlow-Indexing)\n",
        "* [4 NumPy / TensorFlow Interoperability](#4-NumPy-/-TensorFlow-Interoperability)"
      ]
    },
    {
      "cell_type": "code",
      "execution_count": 1,
      "metadata": {
        "id": "i2Cs__OqLvhJ"
      },
      "outputs": [],
      "source": [
        "import tensorflow as tf\n",
        "import numpy as np\n",
        "import random\n",
        "import matplotlib.pyplot as plt"
      ]
    },
    {
      "cell_type": "code",
      "execution_count": null,
      "metadata": {
        "id": "1_KyUV6sLvhK"
      },
      "outputs": [],
      "source": [
        "SEED_VALUE = 42\n",
        "\n",
        "# Fix random number seed.\n",
        "random.seed(SEED_VALUE)\n",
        "np.random.seed(SEED_VALUE)\n",
        "tf.random.set_seed(SEED_VALUE)"
      ]
    },
    {
      "cell_type": "markdown",
      "metadata": {
        "id": "a-3U-pqk44fJ"
      },
      "source": [
        "## 1 TensorFlow Constants and Variables\n",
        "\n",
        "TensorFlow allows you to create both constants and variables. The key differece is that constants in TensorFlow are not mutable, while variables are. Also, an important distinction between NumPy and TensorFlow regarding variable assignment is that TensorFlow variables **require the use of the `assign()` method to change the value of a variable.**\n",
        "\n",
        "### 1.1 TensorFlow Constants"
      ]
    },
    {
      "cell_type": "code",
      "execution_count": 2,
      "metadata": {
        "id": "zskYbQgf44fJ",
        "outputId": "0b004250-9d25-4b12-b1ab-42ceb7b66633",
        "colab": {
          "base_uri": "https://localhost:8080/"
        }
      },
      "outputs": [
        {
          "output_type": "stream",
          "name": "stdout",
          "text": [
            "tf.Tensor(3, shape=(), dtype=int32)\n",
            "tf.Tensor(3.1415927, shape=(), dtype=float32)\n",
            "tf.Tensor(3.141592654, shape=(), dtype=float64)\n"
          ]
        }
      ],
      "source": [
        "rank_0_tensor = tf.constant(3)\n",
        "print(rank_0_tensor)\n",
        "\n",
        "rank_0_tensor = tf.constant(3.141592654)\n",
        "print(rank_0_tensor)\n",
        "\n",
        "rank_0_tensor = tf.constant(3.141592654, dtype=tf.float64)\n",
        "\n",
        "print(rank_0_tensor)"
      ]
    },
    {
      "cell_type": "code",
      "execution_count": 3,
      "metadata": {
        "id": "eScaSBAg44fK",
        "outputId": "b10f5a78-263c-4205-e79f-6d6cbc3fcb17",
        "colab": {
          "base_uri": "https://localhost:8080/"
        }
      },
      "outputs": [
        {
          "output_type": "stream",
          "name": "stdout",
          "text": [
            "tf.Tensor([2. 4. 6.], shape=(3,), dtype=float32)\n"
          ]
        }
      ],
      "source": [
        "# Create a rank-1 constant in TensorFlow.\n",
        "rank_1_tensor = tf.constant([2.0, 4.0, 6.0])\n",
        "print(rank_1_tensor)"
      ]
    },
    {
      "cell_type": "code",
      "execution_count": 4,
      "metadata": {
        "id": "9h9QwzqY44fL",
        "outputId": "6cf09a48-e59e-4db9-ca1b-28f9667102c5",
        "colab": {
          "base_uri": "https://localhost:8080/"
        }
      },
      "outputs": [
        {
          "output_type": "stream",
          "name": "stdout",
          "text": [
            "tf.Tensor(\n",
            "[[1 2]\n",
            " [3 4]\n",
            " [5 6]], shape=(3, 2), dtype=int32)\n"
          ]
        }
      ],
      "source": [
        "# You can also explicitly define the datatype while creating the tensor.\n",
        "rank_2_tensor = tf.constant([[1, 2],\n",
        "                             [3, 4],\n",
        "                             [5, 6]], dtype=tf.int32)\n",
        "print(rank_2_tensor)"
      ]
    },
    {
      "cell_type": "code",
      "execution_count": 5,
      "metadata": {
        "id": "O1pwq6bY44fO",
        "outputId": "6c963ef0-9dd7-4bcc-ddbc-71e63ae4e7b2",
        "colab": {
          "base_uri": "https://localhost:8080/"
        }
      },
      "outputs": [
        {
          "output_type": "stream",
          "name": "stdout",
          "text": [
            "tf.Tensor(\n",
            "[[1 2 3]\n",
            " [4 5 6]], shape=(2, 3), dtype=int32)\n",
            "\n",
            "\n",
            "tf.Tensor(\n",
            "[[ 7  8  9]\n",
            " [10 11 12]], shape=(2, 3), dtype=int32)\n",
            "\n",
            "\n",
            "tf.Tensor(\n",
            "[[ 1  2  3]\n",
            " [ 4  5  6]\n",
            " [ 7  8  9]\n",
            " [10 11 12]], shape=(4, 3), dtype=int32)\n",
            "\n",
            "\n",
            "tf.Tensor(\n",
            "[[ 1  2  3  7  8  9]\n",
            " [ 4  5  6 10 11 12]], shape=(2, 6), dtype=int32)\n"
          ]
        }
      ],
      "source": [
        "# Create two constant tensors.\n",
        "t1 = tf.constant([[1, 2, 3], [4, 5, 6]])\n",
        "t2 = tf.constant([[7, 8, 9], [10, 11, 12]])\n",
        "\n",
        "print(t1)\n",
        "print('\\n')\n",
        "print(t2)\n",
        "print('\\n')\n",
        "\n",
        "# Concatenate tensors along axis-0.\n",
        "print(tf.concat([t1, t2], axis=0))\n",
        "print('\\n')\n",
        "\n",
        "# Concatenate tensors along axis-1.\n",
        "print(tf.concat([t1, t2], axis=1))"
      ]
    },
    {
      "cell_type": "markdown",
      "metadata": {
        "id": "2IgPWCS444fM"
      },
      "source": [
        "### 1.2 TensorFlow Variables\n",
        "\n",
        "The unique thing about TensorFlow variables is that you **cannot use the assignment (`=`) operator to assign a new value to a variable. You must use the `assign()` method as shown below.**"
      ]
    },
    {
      "cell_type": "code",
      "execution_count": 6,
      "metadata": {
        "id": "chzX_hx-44fN",
        "outputId": "38dc7665-717d-43e3-a44a-4e84cd779c20",
        "scrolled": true,
        "colab": {
          "base_uri": "https://localhost:8080/"
        }
      },
      "outputs": [
        {
          "output_type": "stream",
          "name": "stdout",
          "text": [
            "\n",
            "Error: A tensor object does not support item assignment\n"
          ]
        }
      ],
      "source": [
        "# Create a tensor variable.\n",
        "tensor = tf.Variable([2, 4])\n",
        "\n",
        "# Attempt to assign a new value to 0-th tensor element\n",
        "try:\n",
        "    tensor[0] = 11\n",
        "    print('Tensor: ', tensor)\n",
        "except TypeError:\n",
        "    print(\"\\nError: A tensor object does not support item assignment\")"
      ]
    },
    {
      "cell_type": "markdown",
      "metadata": {
        "id": "OYPHwizVXN1J"
      },
      "source": [
        "In TensorFlow, you can't change a tensor by left-hand assignment. Instead, you must use the `assign()` method as shown below."
      ]
    },
    {
      "cell_type": "code",
      "execution_count": 7,
      "metadata": {
        "id": "CnG8IjtcXN1J",
        "outputId": "92470d06-ef98-40ae-83e8-e853168b2f95",
        "colab": {
          "base_uri": "https://localhost:8080/"
        }
      },
      "outputs": [
        {
          "output_type": "stream",
          "name": "stdout",
          "text": [
            "tf.Tensor(42, shape=(), dtype=int32)\n",
            "tf.Tensor(4, shape=(), dtype=int32)\n"
          ]
        }
      ],
      "source": [
        "# You must use the assign() method to assign a new value to a tensorflow variable\n",
        "tensor[0].assign(42)\n",
        "print(tensor[0])\n",
        "print(tensor[1])"
      ]
    },
    {
      "cell_type": "markdown",
      "metadata": {
        "id": "xKe06ywJXN1K"
      },
      "source": [
        "So, what is a `tf.Variable`? You can think of it as a wrapper around a tensor whose value can be changed by running operations on it. For more information, you can refer to the <a href=\"https://www.tensorflow.org/guide/variable\" target=_blank>official documentation</a>."
      ]
    },
    {
      "cell_type": "markdown",
      "metadata": {
        "id": "qsZlGubm44fO"
      },
      "source": [
        "## 2 TensorFlow Reduce Functions\n",
        "\n",
        "There is a class of functions in TensorFlow that are used to compute various quantities of a tensor. Unlike NumPy, these functions start with the name 'reduce' (e.g., `reduce_sum()` instead of just `sum()`). This notation stems from the fact that these functions can compute a given quantity along any given axis of a tensor. If the axis is not specified, then the quantity is computed across all axes."
      ]
    },
    {
      "cell_type": "code",
      "execution_count": 8,
      "metadata": {
        "id": "QuLokEG144fO",
        "outputId": "1fb6785a-492f-4c62-b13b-5c36bfa399aa",
        "colab": {
          "base_uri": "https://localhost:8080/"
        }
      },
      "outputs": [
        {
          "output_type": "stream",
          "name": "stdout",
          "text": [
            "tf.Tensor(\n",
            "[[1.8982744  7.933035   8.742671   7.216103   8.869612  ]\n",
            " [5.2791224  5.4846535  0.17470479 7.8072977  2.907052  ]\n",
            " [0.68398595 1.3725841  3.6243725  2.154994   4.442382  ]], shape=(3, 5), dtype=float32)\n",
            "\n",
            "Computed over all axes:\n",
            "\n",
            "min:   tf.Tensor(0.17470479, shape=(), dtype=float32)\n",
            "max:   tf.Tensor(8.869612, shape=(), dtype=float32)\n",
            "mean:  tf.Tensor(4.572723, shape=(), dtype=float32)\n",
            "sum:   tf.Tensor(68.59084, shape=(), dtype=float32)\n",
            "\n",
            "Computed for axis 1:\n",
            "\n",
            "min:   tf.Tensor([1.8982744  0.17470479 0.68398595], shape=(3,), dtype=float32)\n",
            "max:   tf.Tensor([8.869612  7.8072977 4.442382 ], shape=(3,), dtype=float32)\n",
            "mean:  tf.Tensor([6.931939  4.3305655 2.4556637], shape=(3,), dtype=float32)\n",
            "sum:   tf.Tensor([34.659695 21.652828 12.278318], shape=(3,), dtype=float32)\n"
          ]
        }
      ],
      "source": [
        "# Create some data.\n",
        "x = 10 * tf.random.uniform(shape=[3,5])\n",
        "print(x)\n",
        "\n",
        "# Compute the following quantities for all axes..\n",
        "xmin  = tf.reduce_min (x)\n",
        "xmax  = tf.reduce_max (x)\n",
        "xmean = tf.reduce_mean(x)\n",
        "xsum  = tf.reduce_sum (x)\n",
        "\n",
        "print('\\nComputed over all axes:\\n')\n",
        "print('min:  ', xmin)\n",
        "print('max:  ', xmax)\n",
        "print('mean: ', xmean)\n",
        "print('sum:  ', xsum)\n",
        "\n",
        "# Compute the quantities for axis = 1.\n",
        "xmin  = tf.reduce_min (x, axis=1)\n",
        "xmax  = tf.reduce_max (x, axis=1)\n",
        "xmean = tf.reduce_mean(x, axis=1)\n",
        "xsum  = tf.reduce_sum (x, axis=1)\n",
        "\n",
        "print('\\nComputed for axis 1:\\n')\n",
        "print('min:  ', xmin)\n",
        "print('max:  ', xmax)\n",
        "print('mean: ', xmean)\n",
        "print('sum:  ', xsum)"
      ]
    },
    {
      "cell_type": "markdown",
      "metadata": {
        "id": "nVwL_QsV44fO"
      },
      "source": [
        "## 3 TensorFlow Indexing (`gather`)\n",
        "\n",
        "### <font style=\"color:rgb(50,120,230)\">NumPy array indexing</font>\n",
        "\n",
        "Let's first review how NumPy arrays can be easily indexed using another NumPy array."
      ]
    },
    {
      "cell_type": "code",
      "execution_count": 9,
      "metadata": {
        "id": "ZGZo8BBa44fP",
        "outputId": "3c4f1f18-b227-4303-ef0c-0d511440a7da",
        "colab": {
          "base_uri": "https://localhost:8080/"
        }
      },
      "outputs": [
        {
          "output_type": "stream",
          "name": "stdout",
          "text": [
            "data: \n",
            " [0.2360677  9.4672592  2.0466176  0.81317357 2.40116483 3.90444095\n",
            " 7.96771022 9.01344535 8.3991912  9.50064372 0.70736823 4.44536351\n",
            " 9.05685944 4.07841174 4.08533157 2.39678333 1.31638888 9.29003296\n",
            " 3.59082955 9.39940199 0.57286515 4.73113405 4.0891882  9.59812757]\n",
            "\n",
            "\n",
            "indices:  [16  1  2 20  8]\n",
            "\n",
            "\n",
            "selected_data:  [1.31638888 9.4672592  2.0466176  0.57286515 8.3991912 ]\n"
          ]
        }
      ],
      "source": [
        "# Create some data.\n",
        "num_data = 24\n",
        "data = np.random.uniform(0, 10, num_data)\n",
        "print('data: \\n', data)\n",
        "print('\\n')\n",
        "\n",
        "# Create an array of random indices.\n",
        "indices = np.random.choice(data.shape[0], 5, replace=False)\n",
        "print('indices: ', indices)\n",
        "print('\\n')\n",
        "\n",
        "# Use the indices array to select the corresponding elements from the data array.\n",
        "selected_data = data[indices]\n",
        "\n",
        "print('selected_data: ', selected_data)"
      ]
    },
    {
      "cell_type": "markdown",
      "metadata": {
        "id": "7F1YpCoe44fP"
      },
      "source": [
        "### <font style=\"color:rgb(50,120,230)\">TensorFlow array indexing</font>\n",
        "\n",
        "When using TensorFlow variables, we need to make use of the `tf.gather()` method to achieve the functionality as shown above in NumPy."
      ]
    },
    {
      "cell_type": "code",
      "execution_count": 10,
      "metadata": {
        "id": "kVQuuavl44fP",
        "outputId": "be976ec4-4f7a-4da6-a12c-fca285a331fc",
        "colab": {
          "base_uri": "https://localhost:8080/"
        }
      },
      "outputs": [
        {
          "output_type": "stream",
          "name": "stdout",
          "text": [
            "data: \n",
            " tf.Tensor(\n",
            "[0.9633695  0.2868538  0.08474123 0.01512766 0.52788687 0.73247457\n",
            " 0.03248    0.8645699  0.4877963  0.47930264 0.8005067  0.68605363\n",
            " 0.5921929  0.9916985  0.16226256 0.65381205 0.06260777 0.79169464\n",
            " 0.9800712  0.6271751  0.12256014 0.69193697 0.2422471  0.12033153], shape=(24,), dtype=float32)\n",
            "\n",
            "\n",
            "indices:  tf.Tensor([17 22 16  5 12], shape=(5,), dtype=int32)\n",
            "\n",
            "\n",
            "selected_data:  tf.Tensor([0.79169464 0.2422471  0.06260777 0.73247457 0.5921929 ], shape=(5,), dtype=float32)\n"
          ]
        }
      ],
      "source": [
        "# Create some data.\n",
        "num_data = 24\n",
        "data = tf.random.uniform(shape=[num_data])\n",
        "print('data: \\n', data)\n",
        "print('\\n')\n",
        "\n",
        "# Create an array of random indices.\n",
        "indices = tf.random.uniform([5], minval=0, maxval=len(data)-1, dtype=tf.dtypes.int32)\n",
        "print('indices: ', indices)\n",
        "print('\\n')\n",
        "\n",
        "# Use this he gather() method to index one tensor by another tensor.\n",
        "selected_data = tf.gather(data, indices)\n",
        "\n",
        "print('selected_data: ', selected_data)"
      ]
    },
    {
      "cell_type": "markdown",
      "metadata": {
        "id": "15RtJ5sx44fP"
      },
      "source": [
        "Let's now assume we have a rank-2 tensor and would like to select specific rows within the tensor. This can easily be accomplished with the `gather()` method where we specify a list of the row indices and also specify the axis along which those indices are applied."
      ]
    },
    {
      "cell_type": "code",
      "execution_count": 11,
      "metadata": {
        "id": "qCQ7l5lH44fP",
        "outputId": "cb5150be-72b1-41af-dede-8afdb08ad041",
        "colab": {
          "base_uri": "https://localhost:8080/"
        }
      },
      "outputs": [
        {
          "output_type": "stream",
          "name": "stdout",
          "text": [
            "tf.Tensor(\n",
            "[[ 0.09861331 -1.7489804   1.0942632 ]\n",
            " [ 0.6195667   0.93154454 -0.091554  ]\n",
            " [ 0.03943091  0.11199389 -0.07747791]\n",
            " [-0.00733635 -0.41640306 -0.024058  ]\n",
            " [-0.39752242  0.10444986 -0.65109706]], shape=(5, 3), dtype=float32)\n",
            "\n",
            "\n",
            "1st, 3rd, and 5th rows:\n",
            "tf.Tensor(\n",
            "[[ 0.09861331 -1.7489804   1.0942632 ]\n",
            " [ 0.03943091  0.11199389 -0.07747791]\n",
            " [-0.39752242  0.10444986 -0.65109706]], shape=(3, 3), dtype=float32)\n",
            "\n",
            "\n",
            "1st and 3rd, cols:\n",
            "tf.Tensor(\n",
            "[[ 0.09861331  1.0942632 ]\n",
            " [ 0.6195667  -0.091554  ]\n",
            " [ 0.03943091 -0.07747791]\n",
            " [-0.00733635 -0.024058  ]\n",
            " [-0.39752242 -0.65109706]], shape=(5, 2), dtype=float32)\n"
          ]
        }
      ],
      "source": [
        "# Create a random tensor.\n",
        "tensor = tf.random.normal(shape=[5, 3])\n",
        "print(tensor)\n",
        "print('\\n')\n",
        "\n",
        "# Create a tensor with indices.\n",
        "rows = tf.constant([0, 2, 4])\n",
        "cols = tf.constant([0, 2])\n",
        "\n",
        "print('1st, 3rd, and 5th rows:')\n",
        "\n",
        "# Access specific rows of a tensor by specifying the\n",
        "# indices of the rows along with the row axis.\n",
        "print(tf.gather(tensor, rows, axis=0))\n",
        "\n",
        "print('\\n')\n",
        "print('1st and 3rd, cols:')\n",
        "\n",
        "# Access specific cols of a tensor by specifying the\n",
        "# indices of the cols along with the col axis.\n",
        "print(tf.gather(tensor, cols, axis=1))"
      ]
    },
    {
      "cell_type": "markdown",
      "metadata": {
        "id": "e3Qfb8OH44fQ"
      },
      "source": [
        "## 4 NumPy / TensorFlow Interoperability\n",
        "\n",
        "When using TensorFlow it is very common to also make use of NumPy, and it is very common to convert between NumPy and Tensor Flow variables in code you are developing. In this section, we will demonstrate the use of several built-in functions that allow you to convert back and forth between and NumPy and TensorFlow.\n",
        "\n",
        "- `tf.convert_to_tensor(python_object)`\n",
        "- `tensor.numpy()`"
      ]
    },
    {
      "cell_type": "code",
      "execution_count": 12,
      "metadata": {
        "id": "cDyyO7hP44fQ",
        "outputId": "5e706089-9a69-4443-85d3-8577f1b34ccb",
        "colab": {
          "base_uri": "https://localhost:8080/"
        }
      },
      "outputs": [
        {
          "output_type": "stream",
          "name": "stdout",
          "text": [
            "List:    [1, 2]\n",
            "Array:   [1 2]\n",
            "Tensor:  tf.Tensor([1 2], shape=(2,), dtype=int32)\n",
            "Tensor:  tf.Tensor([1 2], shape=(2,), dtype=int64)\n",
            "Array:   [1 2]\n"
          ]
        }
      ],
      "source": [
        "# Create a python list.\n",
        "python_list = [1, 2]\n",
        "\n",
        "# Create a NumPy array from the list.\n",
        "numpy_array = np.array(python_list)\n",
        "\n",
        "# Create a tensor from list.\n",
        "tensor_from_list = tf.convert_to_tensor(python_list)\n",
        "\n",
        "# Create a tensor from a NumPy array.\n",
        "tensor_from_array = tf.convert_to_tensor(numpy_array)\n",
        "\n",
        "# Create a NumPy array from a tensor.\n",
        "array_from_tensor = tensor_from_array.numpy()\n",
        "\n",
        "print('List:   ', python_list)\n",
        "print('Array:  ', numpy_array)\n",
        "print('Tensor: ', tensor_from_list)\n",
        "print('Tensor: ', tensor_from_array)\n",
        "print('Array:  ', array_from_tensor)"
      ]
    },
    {
      "cell_type": "code",
      "execution_count": null,
      "metadata": {
        "id": "ChaeKMi2XN1L"
      },
      "outputs": [],
      "source": []
    }
  ],
  "metadata": {
    "colab": {
      "provenance": [],
      "include_colab_link": true
    },
    "jupytext": {
      "formats": "ipynb,py:light"
    },
    "kernelspec": {
      "display_name": "dl-tf-keras-env",
      "language": "python",
      "name": "dl-tf-keras-env"
    },
    "language_info": {
      "codemirror_mode": {
        "name": "ipython",
        "version": 3
      },
      "file_extension": ".py",
      "mimetype": "text/x-python",
      "name": "python",
      "nbconvert_exporter": "python",
      "pygments_lexer": "ipython3",
      "version": "3.9.5"
    },
    "toc": {
      "base_numbering": 1,
      "nav_menu": {},
      "number_sections": true,
      "sideBar": true,
      "skip_h1_title": false,
      "title_cell": "Table of Contents",
      "title_sidebar": "Contents",
      "toc_cell": false,
      "toc_position": {},
      "toc_section_display": true,
      "toc_window_display": false
    },
    "varInspector": {
      "cols": {
        "lenName": 16,
        "lenType": 16,
        "lenVar": 40
      },
      "kernels_config": {
        "python": {
          "delete_cmd_postfix": "",
          "delete_cmd_prefix": "del ",
          "library": "var_list.py",
          "varRefreshCmd": "print(var_dic_list())"
        },
        "r": {
          "delete_cmd_postfix": ") ",
          "delete_cmd_prefix": "rm(",
          "library": "var_list.r",
          "varRefreshCmd": "cat(var_dic_list()) "
        }
      },
      "types_to_exclude": [
        "module",
        "function",
        "builtin_function_or_method",
        "instance",
        "_Feature"
      ],
      "window_display": false
    }
  },
  "nbformat": 4,
  "nbformat_minor": 0
}