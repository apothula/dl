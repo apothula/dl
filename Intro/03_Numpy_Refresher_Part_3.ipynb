{
  "cells": [
    {
      "cell_type": "markdown",
      "metadata": {
        "id": "view-in-github",
        "colab_type": "text"
      },
      "source": [
        "<a href=\"https://colab.research.google.com/github/apothula/dl/blob/main/Intro/03_Numpy_Refresher_Part_3.ipynb\" target=\"_parent\"><img src=\"https://colab.research.google.com/assets/colab-badge.svg\" alt=\"Open In Colab\"/></a>"
      ]
    },
    {
      "cell_type": "markdown",
      "metadata": {
        "id": "ou2mMA50HvHE"
      },
      "source": [
        "<h1 style=\"font-size:30px;\">Numpy Refresher (Part-3)</h1>\n",
        "\n",
        "\n",
        "\n",
        "<img src='https://learnopencv.com/wp-content/uploads/2022/01/c4_01_NumPy_logo.png' width=200 align='left'><br/>"
      ]
    },
    {
      "cell_type": "markdown",
      "source": [
        "## Table of Contents\n",
        "\n",
        "* [1 Element-Wise Operations](#1-Element-Wise-Operations)\n",
        "* [2 Linear Algebra](#2-Linear-Algebra)\n",
        "* [3 Array Statistics](#3-Array-Statistics)"
      ],
      "metadata": {
        "id": "b8n38ZE1R6eL"
      }
    },
    {
      "cell_type": "code",
      "execution_count": 1,
      "metadata": {
        "id": "iei7FIbn35Sq"
      },
      "outputs": [],
      "source": [
        "import numpy as np\n",
        "\n",
        "def array_info(array):\n",
        "    print('Array:\\n{}'.format(array))\n",
        "    print('Data type:\\t{}'.format(array.dtype))\n",
        "    print('Array shape:\\t{}'.format(array.shape))\n",
        "    print('Array Dim:\\t{}\\n'.format(array.ndim))"
      ]
    },
    {
      "cell_type": "markdown",
      "metadata": {
        "id": "ib6ndOLfHvHp"
      },
      "source": [
        "## 1 Element-Wise Operations\n"
      ]
    },
    {
      "cell_type": "markdown",
      "metadata": {
        "id": "bEUU5DXSHvHp"
      },
      "source": [
        "Let's generate two random arrays to demonstrate element-wise operations."
      ]
    },
    {
      "cell_type": "code",
      "execution_count": 2,
      "metadata": {
        "id": "Z_4_wwpkHvHq",
        "outputId": "b42d8f9a-56c0-45d0-e59e-be81848058bc",
        "colab": {
          "base_uri": "https://localhost:8080/"
        }
      },
      "outputs": [
        {
          "output_type": "stream",
          "name": "stdout",
          "text": [
            "Array:\n",
            "[[0.96048048 0.79703316 0.6368889  0.75846384]\n",
            " [0.29742858 0.85261992 0.12017932 0.23876994]\n",
            " [0.1669304  0.64370333 0.23394343 0.02657686]\n",
            " [0.78120517 0.89042081 0.51076749 0.51517809]]\n",
            "Data type:\tfloat64\n",
            "Array shape:\t(4, 4)\n",
            "Array Dim:\t2\n",
            "\n",
            "Array:\n",
            "[[0.16456288 0.04155845 0.73672301 0.48874162]\n",
            " [0.5581858  0.37232279 0.02502817 0.21800664]\n",
            " [0.52059724 0.5897348  0.45229838 0.83507151]\n",
            " [0.15872748 0.04618934 0.50586953 0.40653546]]\n",
            "Data type:\tfloat64\n",
            "Array shape:\t(4, 4)\n",
            "Array Dim:\t2\n",
            "\n"
          ]
        }
      ],
      "source": [
        "a = np.random.random((4,4))\n",
        "b = np.random.random((4,4))\n",
        "array_info(a)\n",
        "array_info(b)"
      ]
    },
    {
      "cell_type": "markdown",
      "metadata": {
        "id": "TR3faxSTHvHq"
      },
      "source": [
        "### 1.1 Element-Wise Scalar Operations"
      ]
    },
    {
      "cell_type": "markdown",
      "metadata": {
        "id": "HCaBZ88vHvHq"
      },
      "source": [
        "### <font style=\"color:rgb(50,120,230)\">Scalar Addition</font>"
      ]
    },
    {
      "cell_type": "code",
      "execution_count": 5,
      "metadata": {
        "id": "PkG8aNxzHvHq",
        "outputId": "d62a8ecf-1abb-4039-b24f-c848f70e58b3",
        "colab": {
          "base_uri": "https://localhost:8080/"
        }
      },
      "outputs": [
        {
          "output_type": "execute_result",
          "data": {
            "text/plain": [
              "array([[5.96048048, 5.79703316, 5.6368889 , 5.75846384],\n",
              "       [5.29742858, 5.85261992, 5.12017932, 5.23876994],\n",
              "       [5.1669304 , 5.64370333, 5.23394343, 5.02657686],\n",
              "       [5.78120517, 5.89042081, 5.51076749, 5.51517809]])"
            ]
          },
          "metadata": {},
          "execution_count": 5
        }
      ],
      "source": [
        "a + 5 # Element wise scalar addition."
      ]
    },
    {
      "cell_type": "markdown",
      "metadata": {
        "id": "YZi1QRPhHvHr"
      },
      "source": [
        "### <font style=\"color:rgb(50,120,230)\">Scalar Subtraction</font>"
      ]
    },
    {
      "cell_type": "code",
      "execution_count": 6,
      "metadata": {
        "id": "yu61UKprHvHr",
        "outputId": "e4e3a196-08ad-4abb-808f-7855fc9bdbc5",
        "colab": {
          "base_uri": "https://localhost:8080/"
        }
      },
      "outputs": [
        {
          "output_type": "execute_result",
          "data": {
            "text/plain": [
              "array([[-4.03951952, -4.20296684, -4.3631111 , -4.24153616],\n",
              "       [-4.70257142, -4.14738008, -4.87982068, -4.76123006],\n",
              "       [-4.8330696 , -4.35629667, -4.76605657, -4.97342314],\n",
              "       [-4.21879483, -4.10957919, -4.48923251, -4.48482191]])"
            ]
          },
          "metadata": {},
          "execution_count": 6
        }
      ],
      "source": [
        "a - 5 # Element wise scalar subtraction."
      ]
    },
    {
      "cell_type": "markdown",
      "metadata": {
        "id": "nq5YTQouHvHr"
      },
      "source": [
        "### <font style=\"color:rgb(50,120,230)\">Scalar Multiplication</font>"
      ]
    },
    {
      "cell_type": "code",
      "execution_count": 7,
      "metadata": {
        "id": "B5BkSNZuHvHv",
        "outputId": "7f724898-f48f-4b4c-8184-32941e681a2a",
        "colab": {
          "base_uri": "https://localhost:8080/"
        }
      },
      "outputs": [
        {
          "output_type": "execute_result",
          "data": {
            "text/plain": [
              "array([[9.60480482, 7.97033159, 6.36888899, 7.58463837],\n",
              "       [2.97428575, 8.52619923, 1.20179322, 2.38769944],\n",
              "       [1.66930403, 6.43703326, 2.3394343 , 0.26576856],\n",
              "       [7.81205172, 8.90420811, 5.1076749 , 5.15178092]])"
            ]
          },
          "metadata": {},
          "execution_count": 7
        }
      ],
      "source": [
        "a * 10 # Element wise scalar multiplication."
      ]
    },
    {
      "cell_type": "markdown",
      "metadata": {
        "id": "1npInH3gHvHv"
      },
      "source": [
        "### <font style=\"color:rgb(50,120,230)\">Scalar Division</font>"
      ]
    },
    {
      "cell_type": "code",
      "execution_count": 8,
      "metadata": {
        "id": "mkoXE_-nHvHv",
        "outputId": "881afdc5-ff61-4976-dac1-8483f82c3f23",
        "colab": {
          "base_uri": "https://localhost:8080/"
        }
      },
      "outputs": [
        {
          "output_type": "execute_result",
          "data": {
            "text/plain": [
              "array([[0.09604805, 0.07970332, 0.06368889, 0.07584638],\n",
              "       [0.02974286, 0.08526199, 0.01201793, 0.02387699],\n",
              "       [0.01669304, 0.06437033, 0.02339434, 0.00265769],\n",
              "       [0.07812052, 0.08904208, 0.05107675, 0.05151781]])"
            ]
          },
          "metadata": {},
          "execution_count": 8
        }
      ],
      "source": [
        "a/10 # Element wise scalar division."
      ]
    },
    {
      "cell_type": "markdown",
      "metadata": {
        "id": "jHJRr1MNHvHv"
      },
      "source": [
        "### 1.2 Element-Wise Array Operations"
      ]
    },
    {
      "cell_type": "markdown",
      "metadata": {
        "id": "Bofpk58CHvHw"
      },
      "source": [
        "### <font style=\"color:rgb(50,120,230)\">Array Addition</font>"
      ]
    },
    {
      "cell_type": "code",
      "execution_count": null,
      "metadata": {
        "id": "XKa_rsCEHvHw",
        "outputId": "1dcefbae-e42d-4a0a-84fc-656a49bab68f"
      },
      "outputs": [
        {
          "data": {
            "text/plain": [
              "array([[1.1206598 , 1.14387814, 1.34375811, 0.98689985],\n",
              "       [1.06845918, 0.54364916, 0.98807652, 1.26752561],\n",
              "       [0.48539605, 0.74885733, 0.49049282, 0.460031  ],\n",
              "       [0.75505558, 1.72672935, 1.38596673, 1.02731026]])"
            ]
          },
          "execution_count": 7,
          "metadata": {},
          "output_type": "execute_result"
        }
      ],
      "source": [
        "a + b # Element wise array/vector addition."
      ]
    },
    {
      "cell_type": "markdown",
      "metadata": {
        "id": "ESSSSF91HvHy"
      },
      "source": [
        "### <font style=\"color:rgb(50,120,230)\">Array Subtraction</font>"
      ]
    },
    {
      "cell_type": "code",
      "execution_count": null,
      "metadata": {
        "id": "z1Nh0f-VHvHy",
        "outputId": "28383834-c467-489b-8af4-c42ca114c881"
      },
      "outputs": [
        {
          "data": {
            "text/plain": [
              "array([[-0.69983474,  0.63123864, -0.01396734,  0.90057351],\n",
              "       [ 0.34610049,  0.19308814,  0.40839068, -0.26213814],\n",
              "       [ 0.03924766,  0.29571156, -0.38553917, -0.34569407],\n",
              "       [ 0.19745333, -0.12947929, -0.12271042,  0.31004143]])"
            ]
          },
          "execution_count": 8,
          "metadata": {},
          "output_type": "execute_result"
        }
      ],
      "source": [
        "a - b # Element wise array/vector subtraction."
      ]
    },
    {
      "cell_type": "markdown",
      "metadata": {
        "id": "fP6X8L1ZHvHy"
      },
      "source": [
        "### <font style=\"color:rgb(50,120,230)\">Array Multiplication</font>"
      ]
    },
    {
      "cell_type": "code",
      "execution_count": null,
      "metadata": {
        "id": "9ZvWU6fjHvHy",
        "outputId": "4325f640-c66b-4d2d-83f2-a19113f08d2b"
      },
      "outputs": [
        {
          "data": {
            "text/plain": [
              "array([[0.19152743, 0.22749875, 0.4513727 , 0.04073466],\n",
              "       [0.25545487, 0.06456785, 0.20237806, 0.38447619],\n",
              "       [0.05851724, 0.1183355 , 0.02298569, 0.02303103],\n",
              "       [0.13278028, 0.74120734, 0.47646149, 0.23981017]])"
            ]
          },
          "execution_count": 9,
          "metadata": {},
          "output_type": "execute_result"
        }
      ],
      "source": [
        "a * b # Element wise array/vector multiplication."
      ]
    },
    {
      "cell_type": "markdown",
      "metadata": {
        "id": "VDVd7xSiHvHz"
      },
      "source": [
        "### <font style=\"color:rgb(50,120,230)\">Array Division</font>"
      ]
    },
    {
      "cell_type": "code",
      "execution_count": null,
      "metadata": {
        "id": "VI5scJuLHvHz",
        "outputId": "3efe5887-17be-4157-fe8d-094d07f405aa"
      },
      "outputs": [
        {
          "data": {
            "text/plain": [
              "array([[ 0.23115975,  3.46269995,  0.97942539, 21.8643983 ],\n",
              "       [ 1.95825106,  2.10159499,  2.40900693,  0.65726044],\n",
              "       [ 1.17593993,  2.30514978,  0.11980572,  0.14190564],\n",
              "       [ 1.70822285,  0.86049058,  0.83732713,  1.86450552]])"
            ]
          },
          "execution_count": 10,
          "metadata": {},
          "output_type": "execute_result"
        }
      ],
      "source": [
        "a / b # element wise array/vector division"
      ]
    },
    {
      "cell_type": "markdown",
      "metadata": {
        "id": "dWNN2R1mHvHz"
      },
      "source": [
        "Notice that the dimension of both arrays are equal in the above array element-wise operations. **What if the dimensions are not equal.** Let's check!"
      ]
    },
    {
      "cell_type": "code",
      "execution_count": 9,
      "metadata": {
        "id": "6lpnhqYEHvHz",
        "outputId": "f3a4b7b1-3924-4b36-b602-6ded1a0362db",
        "colab": {
          "base_uri": "https://localhost:8080/"
        }
      },
      "outputs": [
        {
          "output_type": "stream",
          "name": "stdout",
          "text": [
            "Array \"a\":\n",
            "Array:\n",
            "[[0.96048048 0.79703316 0.6368889  0.75846384]\n",
            " [0.29742858 0.85261992 0.12017932 0.23876994]\n",
            " [0.1669304  0.64370333 0.23394343 0.02657686]\n",
            " [0.78120517 0.89042081 0.51076749 0.51517809]]\n",
            "Data type:\tfloat64\n",
            "Array shape:\t(4, 4)\n",
            "Array Dim:\t2\n",
            "\n",
            "Array \"c\":\n",
            "Array:\n",
            "[[0.3478699  0.44519556 0.91690017 0.79631405]\n",
            " [0.22512313 0.30767085 0.67328075 0.50588712]]\n",
            "Data type:\tfloat64\n",
            "Array shape:\t(2, 4)\n",
            "Array Dim:\t2\n",
            "\n"
          ]
        },
        {
          "output_type": "stream",
          "name": "stderr",
          "text": [
            "Traceback (most recent call last):\n",
            "  File \"<ipython-input-9-db3a8552b781>\", line 10, in <cell line: 9>\n",
            "    a + c\n",
            "ValueError: operands could not be broadcast together with shapes (4,4) (2,4) \n"
          ]
        }
      ],
      "source": [
        "print('Array \"a\":')\n",
        "array_info(a)\n",
        "print('Array \"c\":')\n",
        "c = np.random.rand(2, 4)\n",
        "array_info(c)\n",
        "\n",
        "# Should throw ValueError.\n",
        "import traceback\n",
        "try:\n",
        "    a + c\n",
        "except Exception:\n",
        "    traceback.print_exc()"
      ]
    },
    {
      "cell_type": "markdown",
      "metadata": {
        "id": "TJJByIVLHvHz"
      },
      "source": [
        "<font color='red'>**Oh, got the ValueError!!**</font>\n",
        "\n",
        "What is this error?\n",
        "\n",
        "<font color='red'>ValueError</font>: operands could not be broadcast together with shapes `(4,4)` `(2,2)`"
      ]
    },
    {
      "cell_type": "markdown",
      "metadata": {
        "id": "-Tfs85kWHvH0"
      },
      "source": [
        "### 1.3 Broadcasting\n",
        "\n",
        "There is a concept of broadcasting in NumPy, which tries to copy rows or columns in the lower-dimensional array to make an equal dimensional array of higher-dimensional array.\n",
        "\n",
        "<hr style=\"border:none; height: 4px; background-color:#D3D3D3\" />\n",
        "\n",
        "Documentation: <a href=\"https://numpy.org/doc/stable/user/basics.broadcasting.html\" target=_blank>broadcasting</a>\n",
        "\n",
        "When operating on two arrays, NumPy compares their shapes element-wise. It starts with the trailing (i.e., rightmost) dimensions and works its way left. Two dimensions are compatible when:\n",
        "\n",
        " - They are equal, or\n",
        " - One of them is 1\n",
        "\n",
        "The examples below show how `B` is successfully broadcasted to `A` according to the rules above.\n",
        "\n",
        "``` python\n",
        "A      (2d array):  5 x 4\n",
        "B      (1d array):      1\n",
        "Result (2d array):  5 x 4\n",
        "\n",
        "A      (2d array):  5 x 4\n",
        "B      (1d array):      4\n",
        "Result (2d array):  5 x 4\n",
        "\n",
        "A      (3d array):  15 x 3 x 5\n",
        "B      (3d array):  15 x 1 x 5\n",
        "Result (3d array):  15 x 3 x 5\n",
        "\n",
        "A      (3d array):  15 x 3 x 5\n",
        "B      (2d array):       3 x 5\n",
        "Result (3d array):  15 x 3 x 5\n",
        "\n",
        "A      (3d array):  15 x 3 x 5\n",
        "B      (2d array):       3 x 1\n",
        "Result (3d array):  15 x 3 x 5\n",
        "```\n",
        "\n",
        "<hr style=\"border:none; height: 4px; background-color:#D3D3D3\" />"
      ]
    },
    {
      "cell_type": "code",
      "execution_count": 10,
      "metadata": {
        "id": "BO7iCn7WHvH0",
        "outputId": "4aefa55e-74c5-4a25-f044-c749cc3cfc81",
        "colab": {
          "base_uri": "https://localhost:8080/"
        }
      },
      "outputs": [
        {
          "output_type": "stream",
          "name": "stdout",
          "text": [
            "Array \"a\":\n",
            "Array:\n",
            "[[1 2 3]\n",
            " [4 5 6]\n",
            " [7 8 9]]\n",
            "Data type:\tint64\n",
            "Array shape:\t(3, 3)\n",
            "Array Dim:\t2\n",
            "\n",
            "Array \"b\":\n",
            "Array:\n",
            "[0 1 0]\n",
            "Data type:\tint64\n",
            "Array shape:\t(3,)\n",
            "Array Dim:\t1\n",
            "\n",
            "Array \"a+b\":\n",
            "Array:\n",
            "[[1 3 3]\n",
            " [4 6 6]\n",
            " [7 9 9]]\n",
            "Data type:\tint64\n",
            "Array shape:\t(3, 3)\n",
            "Array Dim:\t2\n",
            "\n"
          ]
        }
      ],
      "source": [
        "a = np.array([[1, 2, 3], [4, 5, 6],[7, 8, 9]])\n",
        "b = np.array([0, 1, 0])\n",
        "\n",
        "print('Array \"a\":')\n",
        "array_info(a)\n",
        "print('Array \"b\":')\n",
        "array_info(b)\n",
        "\n",
        "print('Array \"a+b\":')\n",
        "array_info(a + b)  # b is reshaped such that it can be added to a.\n",
        "\n",
        "# b = [0,1,0] is broadcasted to     [[0, 1, 0],\n",
        "#                                    [0, 1, 0],\n",
        "#                                    [0, 1, 0]]  and added to a."
      ]
    },
    {
      "cell_type": "markdown",
      "metadata": {
        "id": "QpgY47AtHvH0"
      },
      "source": [
        "## 2 Linear Algebra\n",
        "\n",
        "In this section, we will take a look at the most commonly used linear algebra operations used in machine learning."
      ]
    },
    {
      "cell_type": "markdown",
      "metadata": {
        "id": "0QzeoEJjHvH0"
      },
      "source": [
        "## 2.1 Transpose\n",
        "\n",
        "<hr style=\"border:none; height: 4px; background-color:#D3D3D3\" />\n",
        "\n",
        "Either syntax below can be used:\n",
        "\n",
        "``` python\n",
        "result = np.transpose(a, axes=None)\n",
        "\n",
        "result = a.transpose(*axes)\n",
        "\n",
        "result = a.T\n",
        "```\n",
        "\n",
        "Returns a view of the NumPy array `a` with axes transposed.\n",
        "\n",
        "Documentation: <a href=\"https://numpy.org/doc/stable/reference/generated/numpy.transpose.html\" target=_blank>np.transpose</a>\n",
        "\n",
        "<hr style=\"border:none; height: 4px; background-color:#D3D3D3\" />\n"
      ]
    },
    {
      "cell_type": "code",
      "execution_count": 11,
      "metadata": {
        "id": "r5go-3TdHvH0",
        "outputId": "8ab5d876-27d4-4a85-a0c8-323fb907d45d",
        "colab": {
          "base_uri": "https://localhost:8080/"
        }
      },
      "outputs": [
        {
          "output_type": "stream",
          "name": "stdout",
          "text": [
            "Array \"a\":\n",
            "Array:\n",
            "[[0.41254105 0.71510938 0.35266917]\n",
            " [0.05711373 0.72537597 0.63358695]]\n",
            "Data type:\tfloat64\n",
            "Array shape:\t(2, 3)\n",
            "Array Dim:\t2\n",
            "\n",
            "Transose of \"a\":\n",
            "Array:\n",
            "[[0.41254105 0.05711373]\n",
            " [0.71510938 0.72537597]\n",
            " [0.35266917 0.63358695]]\n",
            "Data type:\tfloat64\n",
            "Array shape:\t(3, 2)\n",
            "Array Dim:\t2\n",
            "\n"
          ]
        }
      ],
      "source": [
        "a = np.random.random((2,3))\n",
        "print('Array \"a\":')\n",
        "array_info(a)\n",
        "\n",
        "print('Transose of \"a\":')\n",
        "a_transpose = a.transpose()  # Or a.T\n",
        "array_info(a_transpose)"
      ]
    },
    {
      "cell_type": "markdown",
      "metadata": {
        "id": "qsKNn9Y6HvH1"
      },
      "source": [
        "### 2.2 Matrix Multiplication\n",
        "We will discuss two ways of performing matrix multiplication.\n",
        "\n",
        "- `np.matmul`\n",
        "- Python `@` operator\n",
        "\n",
        "### <font style=\"color:rgb(50,120,230)\">Using: `matmul`</font>\n",
        "\n",
        "<hr style=\"border:none; height: 4px; background-color:#D3D3D3\" />\n",
        "\n",
        "Using `matmul` is the most common approach for multiplying two matrices using Numpy. Multiplying two matrices requires that the number of columns of the first matrix, `M`, equals the number of rows in the second matrix, `N`, as shown below.\n",
        "\n",
        "``` python\n",
        "   M        N      \n",
        "[p, q] x [q, r] = [p , r]\n",
        "```\n",
        "Documentation: <a href=\"https://docs.scipy.org/doc/numpy/reference/generated/numpy.matmul.html\" target=_blank>np.matmul</a>\n",
        "\n",
        "<hr style=\"border:none; height: 4px; background-color:#D3D3D3\" />"
      ]
    },
    {
      "cell_type": "code",
      "execution_count": null,
      "metadata": {
        "id": "k7MrCHnDHvH1",
        "outputId": "f925c099-3d12-4b4b-dd4b-cde5e2f799ca"
      },
      "outputs": [
        {
          "name": "stdout",
          "output_type": "stream",
          "text": [
            "Array \"a\":\n",
            "Array:\n",
            "[[0.6558135  0.44199714 0.2873197  0.92405359]\n",
            " [0.3087299  0.18971711 0.75472795 0.29666377]\n",
            " [0.42034068 0.77374161 0.35020636 0.32808625]]\n",
            "Data type:\tfloat64\n",
            "Array shape:\t(3, 4)\n",
            "Array Dim:\t2\n",
            "\n",
            "Array \"b\"\n",
            "Array:\n",
            "[[0.7266519  0.41308904]\n",
            " [0.26073966 0.53704643]\n",
            " [0.76897388 0.10513026]\n",
            " [0.55644044 0.62232665]]\n",
            "Data type:\tfloat64\n",
            "Array shape:\t(4, 2)\n",
            "Array Dim:\t2\n",
            "\n",
            "matrix multiplication of a and b:\n",
            "Array:\n",
            "[[1.32691644 1.11355153]\n",
            " [1.01924774 0.49338635]\n",
            " [0.95904648 0.8301674 ]]\n",
            "Data type:\tfloat64\n",
            "Array shape:\t(3, 2)\n",
            "Array Dim:\t2\n",
            "\n",
            "(3, 4) x (4, 2) --> (3, 2)\n"
          ]
        }
      ],
      "source": [
        "a = np.random.random((3, 4))\n",
        "b = np.random.random((4, 2))\n",
        "\n",
        "print('Array \"a\":')\n",
        "array_info(a)\n",
        "print('Array \"b\"')\n",
        "array_info(b)\n",
        "\n",
        "# Matrix multiplication of a and b.\n",
        "c = np.matmul(a,b)\n",
        "\n",
        "print('matrix multiplication of a and b:')\n",
        "array_info(c)\n",
        "\n",
        "print('{} x {} --> {}'.format(a.shape, b.shape, c.shape)) # dim-1 of a and dim-0 of b has to be\n",
        "                                                          # same for matrix multiplication"
      ]
    },
    {
      "cell_type": "markdown",
      "metadata": {
        "id": "bWkSiPrhHvH1"
      },
      "source": [
        "### <font style=\"color:rgb(50,120,230)\">Using: `@` operator</font>\n",
        "\n",
        "This method of multiplication was introduced in Python 3.5. <a href=\"https://www.python.org/dev/peps/pep-0465/\" target=_blank>See docs</a>."
      ]
    },
    {
      "cell_type": "code",
      "execution_count": 12,
      "metadata": {
        "id": "dEgb2I7hHvH1",
        "outputId": "01baebae-4cf8-4377-f79a-60066487b131",
        "colab": {
          "base_uri": "https://localhost:8080/"
        }
      },
      "outputs": [
        {
          "output_type": "stream",
          "name": "stdout",
          "text": [
            "Array \"a\":\n",
            "Array:\n",
            "[[0.23565086 0.2623808  0.88179574 0.26596471]\n",
            " [0.91426254 0.87941457 0.91440019 0.85233351]\n",
            " [0.69489211 0.63049833 0.82867284 0.50937018]]\n",
            "Data type:\tfloat64\n",
            "Array shape:\t(3, 4)\n",
            "Array Dim:\t2\n",
            "\n",
            "Array \"b\"\n",
            "Array:\n",
            "[[0.80546856 0.25430247]\n",
            " [0.28617241 0.8727737 ]\n",
            " [0.97984171 0.82089581]\n",
            " [0.01064348 0.11658368]]\n",
            "Data type:\tfloat64\n",
            "Array shape:\t(4, 2)\n",
            "Array Dim:\t2\n",
            "\n",
            "Array:\n",
            "[[1.13174654 1.04379523]\n",
            " [1.89311315 1.85002458]\n",
            " [1.55753466 1.46663345]]\n",
            "Data type:\tfloat64\n",
            "Array shape:\t(3, 2)\n",
            "Array Dim:\t2\n",
            "\n"
          ]
        }
      ],
      "source": [
        "a = np.random.random((3, 4))\n",
        "b = np.random.random((4, 2))\n",
        "\n",
        "print('Array \"a\":')\n",
        "array_info(a)\n",
        "print('Array \"b\"')\n",
        "array_info(b)\n",
        "\n",
        "# Matrix multiplication of a and b.\n",
        "c = a@b\n",
        "array_info(c)"
      ]
    },
    {
      "cell_type": "markdown",
      "metadata": {
        "id": "iIWu52Pn35S0"
      },
      "source": [
        "### 2.3 Matrix Inverse\n",
        "\n",
        "<hr style=\"border:none; height: 4px; background-color:#D3D3D3\" />\n",
        "\n",
        "``` python\n",
        "np.linalg.inv(a)\n",
        "```\n",
        "\n",
        "For a square matrix, `a`, compute the (multiplicative) inverse of a matrix.\n",
        "\n",
        "Documentation: <a href=\"https://numpy.org/doc/stable/reference/generated/numpy.linalg.inv.html?highlight=matrix%20inverse\" target=_blank>np.linalg.inv</a>\n",
        "\n",
        "<hr style=\"border:none; height: 4px; background-color:#D3D3D3\" />\n"
      ]
    },
    {
      "cell_type": "code",
      "execution_count": 13,
      "metadata": {
        "id": "NZaXtR-uHvH2",
        "outputId": "c05c19b0-7391-4733-c26e-7fcd49c5aa71",
        "colab": {
          "base_uri": "https://localhost:8080/"
        }
      },
      "outputs": [
        {
          "output_type": "stream",
          "name": "stdout",
          "text": [
            "Array \"A\":\n",
            "Array:\n",
            "[[0.96737311 0.54136759 0.98693998]\n",
            " [0.0989966  0.64270848 0.41717809]\n",
            " [0.85624899 0.10826897 0.78085924]]\n",
            "Data type:\tfloat64\n",
            "Array shape:\t(3, 3)\n",
            "Array Dim:\t2\n",
            "\n",
            "Inverse of \"A\" (\"A_inverse\"):\n",
            "Array:\n",
            "[[ 7.51446778 -5.19741696 -6.72090422]\n",
            " [ 4.60555248 -1.47565638 -5.03265137]\n",
            " [-8.87854488  5.90381792  9.34822435]]\n",
            "Data type:\tfloat64\n",
            "Array shape:\t(3, 3)\n",
            "Array Dim:\t2\n",
            "\n",
            "\"A x A_inverse = Identity\" should be true:\n",
            "Array:\n",
            "[[ 1.00000000e+00 -4.08152300e-16  3.86153824e-16]\n",
            " [ 5.34829270e-16  1.00000000e+00 -1.94813282e-16]\n",
            " [ 1.67033801e-15 -3.26942804e-16  1.00000000e+00]]\n",
            "Data type:\tfloat64\n",
            "Array shape:\t(3, 3)\n",
            "Array Dim:\t2\n",
            "\n"
          ]
        }
      ],
      "source": [
        "A = np.random.random((3,3))\n",
        "print('Array \"A\":')\n",
        "array_info(A)\n",
        "\n",
        "A_inverse = np.linalg.inv(A)\n",
        "print('Inverse of \"A\" (\"A_inverse\"):')\n",
        "array_info(A_inverse)\n",
        "\n",
        "print('\"A x A_inverse = Identity\" should be true:')\n",
        "A_X_A_inverse = np.matmul(A, A_inverse)  # A x A_inverse = I = Identity matrix\n",
        "array_info(A_X_A_inverse)"
      ]
    },
    {
      "cell_type": "markdown",
      "metadata": {
        "id": "dZ8RyI11HvH2"
      },
      "source": [
        "### 2.4 Dot Product\n",
        "\n",
        "The dot product between two euqal length vectors is a scalar defined by the sum of the element-wise product of the two vectors.\n",
        "\n",
        "<hr style=\"border:none; height: 4px; background-color:#D3D3D3\" />\n",
        "\n",
        "``` python\n",
        "np.dot(a, b, out=None)\n",
        "```\n",
        "\n",
        "\n",
        "Documentation: <a href=\"https://numpy.org/doc/stable/reference/generated/numpy.dot.html?highlight=dot%20product\" target=_blank>np.dot</a>\n",
        "\n",
        "<hr style=\"border:none; height: 4px; background-color:#D3D3D3\" />\n"
      ]
    },
    {
      "cell_type": "code",
      "execution_count": 14,
      "metadata": {
        "id": "b1iIv5FaHvH2",
        "outputId": "dae22714-0001-4bfd-d7c3-74325e9803be",
        "colab": {
          "base_uri": "https://localhost:8080/"
        }
      },
      "outputs": [
        {
          "output_type": "stream",
          "name": "stdout",
          "text": [
            "Array:\n",
            "[1 2 3 4]\n",
            "Data type:\tint64\n",
            "Array shape:\t(4,)\n",
            "Array Dim:\t1\n",
            "\n",
            "Array:\n",
            "[5 6 7 8]\n",
            "Data type:\tint64\n",
            "Array shape:\t(4,)\n",
            "Array Dim:\t1\n",
            "\n",
            "Array:\n",
            "70\n",
            "Data type:\tint64\n",
            "Array shape:\t()\n",
            "Array Dim:\t0\n",
            "\n"
          ]
        }
      ],
      "source": [
        "a = np.array([1, 2, 3, 4])\n",
        "b = np.array([5, 6, 7, 8])\n",
        "\n",
        "array_info(a)\n",
        "array_info(b)\n",
        "\n",
        "dot_prod = np.dot(a, b)\n",
        "array_info(dot_prod)"
      ]
    },
    {
      "cell_type": "markdown",
      "metadata": {
        "id": "8cjIE8hGHvH3"
      },
      "source": [
        "## 3 Array Statistics"
      ]
    },
    {
      "cell_type": "markdown",
      "metadata": {
        "id": "-HOjs-cVHvH3"
      },
      "source": [
        "### 3.1 Sum"
      ]
    },
    {
      "cell_type": "code",
      "execution_count": 15,
      "metadata": {
        "id": "Qdzq9ul7HvH3",
        "outputId": "d9c42ab2-5b32-4298-d584-d3f9b111ae45",
        "colab": {
          "base_uri": "https://localhost:8080/"
        }
      },
      "outputs": [
        {
          "output_type": "stream",
          "name": "stdout",
          "text": [
            "15\n"
          ]
        }
      ],
      "source": [
        "a = np.array([1, 2, 3, 4, 5])\n",
        "\n",
        "print(a.sum())"
      ]
    },
    {
      "cell_type": "markdown",
      "metadata": {
        "id": "6now4zePHvH3"
      },
      "source": [
        "### 3.2 Sum Along Axis"
      ]
    },
    {
      "cell_type": "code",
      "execution_count": 16,
      "metadata": {
        "id": "ul2TJrxRHvH3",
        "outputId": "531399a6-ad38-4078-bf51-384518379ad4",
        "colab": {
          "base_uri": "https://localhost:8080/"
        }
      },
      "outputs": [
        {
          "output_type": "stream",
          "name": "stdout",
          "text": [
            "Array:\n",
            "[[1 2 3]\n",
            " [4 5 6]]\n",
            "Data type:\tint64\n",
            "Array shape:\t(2, 3)\n",
            "Array Dim:\t2\n",
            "\n",
            "\n",
            "sum along axis=0:  [5 7 9]\n",
            "\n",
            "sum along axis=1:  [ 6 15]\n"
          ]
        }
      ],
      "source": [
        "a = np.array([[1, 2, 3], [4, 5, 6]])\n",
        "array_info(a)\n",
        "print('')\n",
        "\n",
        "print('sum along axis=0: ',a.sum(axis = 0)) # Sum along axis=0 ie: 1+4, 2+5, 3+6\n",
        "print(\"\")\n",
        "print('sum along axis=1: ',a.sum(axis = 1)) # Sum along axis=1 ie: 1+2+3, 4+5+6"
      ]
    },
    {
      "cell_type": "markdown",
      "metadata": {
        "id": "hOCEcGgpHvH4"
      },
      "source": [
        "### 3.3 Minimum and Maximum"
      ]
    },
    {
      "cell_type": "code",
      "execution_count": 17,
      "metadata": {
        "id": "0hqHKLRdHvH4",
        "outputId": "7e58de1b-ab04-4111-d80a-413831842c1f",
        "colab": {
          "base_uri": "https://localhost:8080/"
        }
      },
      "outputs": [
        {
          "output_type": "stream",
          "name": "stdout",
          "text": [
            "Minimum =  -1.1\n",
            "Maximum =  100.0\n"
          ]
        }
      ],
      "source": [
        "a = np.array([-1.1, 2, 5, 100])\n",
        "\n",
        "print('Minimum = ', a.min())\n",
        "print('Maximum = ', a.max())"
      ]
    },
    {
      "cell_type": "markdown",
      "metadata": {
        "id": "gfg1O0-5HvH4"
      },
      "source": [
        "### 3.4 Min and Max along Axis"
      ]
    },
    {
      "cell_type": "code",
      "execution_count": null,
      "metadata": {
        "id": "HTINIBoCHvH4",
        "outputId": "17d210c3-ffe5-45f4-dfaf-e58e112f4cde"
      },
      "outputs": [
        {
          "name": "stdout",
          "output_type": "stream",
          "text": [
            "Array:\n",
            "[[-2  0  4]\n",
            " [ 1  2  3]]\n",
            "Data type:\tint64\n",
            "Array shape:\t(2, 3)\n",
            "Array Dim:\t2\n",
            "\n",
            "a =\n",
            " [[-2  0  4]\n",
            " [ 1  2  3]] \n",
            "\n",
            "Minimum =  -2\n",
            "Maximum =  4\n",
            "\n",
            "Minimum along axis 0 =  [-2  0  3]\n",
            "Maximum along axis 0 =  [1 2 4]\n",
            "\n",
            "Minimum along axis 1 =  [-2  1]\n",
            "Maximum along axis 1 =  [4 3]\n"
          ]
        }
      ],
      "source": [
        "a = np.array([[-2, 0, 4], [1, 2, 3]])\n",
        "\n",
        "array_info(a)\n",
        "\n",
        "print('a =\\n',a,'\\n')\n",
        "print('Minimum = ', a.min())\n",
        "print('Maximum = ', a.max())\n",
        "print()\n",
        "print('Minimum along axis 0 = ', a.min(0))\n",
        "print('Maximum along axis 0 = ', a.max(0))\n",
        "print()\n",
        "print('Minimum along axis 1 = ', a.min(1))\n",
        "print('Maximum along axis 1 = ', a.max(1))"
      ]
    },
    {
      "cell_type": "markdown",
      "metadata": {
        "id": "duzWUeVcHvH5"
      },
      "source": [
        "### 3.5 Mean and Standard Deviation"
      ]
    },
    {
      "cell_type": "code",
      "execution_count": 18,
      "metadata": {
        "id": "SMBfODD6HvH5",
        "outputId": "889d7f48-4f0f-47c5-93f0-3a4990bb87be",
        "colab": {
          "base_uri": "https://localhost:8080/"
        }
      },
      "outputs": [
        {
          "output_type": "stream",
          "name": "stdout",
          "text": [
            "Mean of the array               = 3.133333\n",
            "Standard deviation of the array = 1.684900\n"
          ]
        }
      ],
      "source": [
        "# Create some data.\n",
        "data = np.array([1.2, 2.3, 5.0, 3.3, 1.4, 5.6])\n",
        "\n",
        "print('Mean of the array               = {:8.6f}'.format(data.mean()))\n",
        "print('Standard deviation of the array = {:8.6f}'.format(data.std()))"
      ]
    },
    {
      "cell_type": "markdown",
      "metadata": {
        "id": "N0ymt6ICHvH5"
      },
      "source": [
        "### 3.6 Standardizing an Array\n",
        "\n",
        "Normalize the data array to have `mean=0` and `std=1`."
      ]
    },
    {
      "cell_type": "code",
      "execution_count": 19,
      "metadata": {
        "id": "n3x7_N59HvH5",
        "outputId": "4e6d23cd-ed37-42b5-8603-7fdeadda7f70",
        "colab": {
          "base_uri": "https://localhost:8080/"
        }
      },
      "outputs": [
        {
          "output_type": "stream",
          "name": "stdout",
          "text": [
            "Array              =  [1.2 2.3 5.  3.3 1.4 5.6]\n",
            "Mean               = 3.133333\n",
            "Standard deviation = 1.684900\n",
            "\n",
            "Standardized Array =  [-1.14744675 -0.49458912  1.10787962  0.09891782 -1.02874536  1.46398379]\n",
            "Mean               = -0.000000\n",
            "Standard deviation = 1.000000\n"
          ]
        }
      ],
      "source": [
        "print('Array              = ', data)\n",
        "print('Mean               = {:8.6f}'.format(data.mean()))\n",
        "print('Standard deviation = {:8.6f}'.format(data.std()))\n",
        "print()\n",
        "\n",
        "standardized_array = (data - data.mean())/data.std()\n",
        "\n",
        "print('Standardized Array = ', standardized_array)\n",
        "print('Mean               = {:8.6f}'.format(standardized_array.mean()))\n",
        "print('Standard deviation = {:8.6f}'.format(standardized_array.std()))"
      ]
    },
    {
      "cell_type": "code",
      "execution_count": null,
      "metadata": {
        "id": "LN9ohY1uHvH6"
      },
      "outputs": [],
      "source": []
    }
  ],
  "metadata": {
    "colab": {
      "provenance": [],
      "include_colab_link": true
    },
    "jupytext": {
      "encoding": "# -*- coding: utf-8 -*-",
      "formats": "ipynb,py:light"
    },
    "kernelspec": {
      "display_name": "Python 3",
      "language": "python",
      "name": "python3"
    },
    "language_info": {
      "codemirror_mode": {
        "name": "ipython",
        "version": 3
      },
      "file_extension": ".py",
      "mimetype": "text/x-python",
      "name": "python",
      "nbconvert_exporter": "python",
      "pygments_lexer": "ipython3",
      "version": "3.8.8"
    },
    "latex_envs": {
      "LaTeX_envs_menu_present": true,
      "autoclose": false,
      "autocomplete": true,
      "bibliofile": "biblio.bib",
      "cite_by": "apalike",
      "current_citInitial": 1,
      "eqLabelWithNumbers": true,
      "eqNumInitial": 1,
      "hotkeys": {
        "equation": "Ctrl-E",
        "itemize": "Ctrl-I"
      },
      "labels_anchors": false,
      "latex_user_defs": false,
      "report_style_numbering": false,
      "user_envs_cfg": false
    },
    "toc": {
      "base_numbering": 1,
      "nav_menu": {},
      "number_sections": true,
      "sideBar": true,
      "skip_h1_title": false,
      "title_cell": "Table of Contents",
      "title_sidebar": "Contents",
      "toc_cell": false,
      "toc_position": {},
      "toc_section_display": true,
      "toc_window_display": false
    },
    "varInspector": {
      "cols": {
        "lenName": 16,
        "lenType": 16,
        "lenVar": 40
      },
      "kernels_config": {
        "python": {
          "delete_cmd_postfix": "",
          "delete_cmd_prefix": "del ",
          "library": "var_list.py",
          "varRefreshCmd": "print(var_dic_list())"
        },
        "r": {
          "delete_cmd_postfix": ") ",
          "delete_cmd_prefix": "rm(",
          "library": "var_list.r",
          "varRefreshCmd": "cat(var_dic_list()) "
        }
      },
      "types_to_exclude": [
        "module",
        "function",
        "builtin_function_or_method",
        "instance",
        "_Feature"
      ],
      "window_display": false
    }
  },
  "nbformat": 4,
  "nbformat_minor": 0
}